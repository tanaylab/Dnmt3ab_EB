{
 "cells": [
  {
   "cell_type": "markdown",
   "id": "d31ff2f1-c5b4-4e98-869b-002a4dbb61a4",
   "metadata": {},
   "source": [
    "# Methylation trends in EB days 0-6"
   ]
  },
  {
   "cell_type": "markdown",
   "id": "8b28dcee-77c2-464a-9ab8-10368c19d8a2",
   "metadata": {},
   "source": [
    "### initialize definitions"
   ]
  },
  {
   "cell_type": "code",
   "execution_count": 1,
   "id": "e3b059bf-774f-4abc-8b91-7e564ffdc683",
   "metadata": {},
   "outputs": [],
   "source": [
    "suppressMessages(suppressWarnings(source(here::here(\"code/init.R\"))))"
   ]
  },
  {
   "cell_type": "markdown",
   "id": "23b36806-c694-4373-b73f-d825ce8075e8",
   "metadata": {},
   "source": [
    "### Load data"
   ]
  },
  {
   "cell_type": "markdown",
   "id": "77671dfa-69a6-4adc-bcea-c5e06f21b4b0",
   "metadata": {},
   "source": [
    "Load the data of methylation day 0-4:"
   ]
  },
  {
   "cell_type": "code",
   "execution_count": 2,
   "id": "42d5ad9a-5f50-41ac-9a86-12523bc1795b",
   "metadata": {},
   "outputs": [
    {
     "name": "stderr",
     "output_type": "stream",
     "text": [
      "Using cached dataframe from '/net/mraid14/export/tgdata/users/aviezerl/proj/ebdnmt/Dnmt3ab_EB/methylation/output/eb_day0_to_day4_cpg_meth.tsv'\n",
      "\n"
     ]
    }
   ],
   "source": [
    "cpg_meth <- calc_eb_day0_to_day4_cpg_meth(min_cov = 10, max_na  = 5)"
   ]
  },
  {
   "cell_type": "code",
   "execution_count": 3,
   "id": "203157d7-0948-43f0-95a1-2dbf5a594d09",
   "metadata": {},
   "outputs": [],
   "source": [
    "m <- intervs_to_mat(cpg_meth)"
   ]
  },
  {
   "cell_type": "code",
   "execution_count": 4,
   "id": "6b0c05e5-a6a2-4150-bf30-9b3afa56894b",
   "metadata": {},
   "outputs": [
    {
     "data": {
      "text/html": [
       "<style>\n",
       ".list-inline {list-style: none; margin:0; padding: 0}\n",
       ".list-inline>li {display: inline-block}\n",
       ".list-inline>li:not(:last-child)::after {content: \"\\00b7\"; padding: 0 .5ex}\n",
       "</style>\n",
       "<ol class=list-inline><li>132052</li><li>24</li></ol>\n"
      ],
      "text/latex": [
       "\\begin{enumerate*}\n",
       "\\item 132052\n",
       "\\item 24\n",
       "\\end{enumerate*}\n"
      ],
      "text/markdown": [
       "1. 132052\n",
       "2. 24\n",
       "\n",
       "\n"
      ],
      "text/plain": [
       "[1] 132052     24"
      ]
     },
     "metadata": {},
     "output_type": "display_data"
    }
   ],
   "source": [
    "dim(m)"
   ]
  },
  {
   "cell_type": "code",
   "execution_count": 5,
   "id": "e9454382-c2d9-4f6e-bb17-ee5def27437e",
   "metadata": {},
   "outputs": [
    {
     "data": {
      "text/html": [
       "<style>\n",
       ".list-inline {list-style: none; margin:0; padding: 0}\n",
       ".list-inline>li {display: inline-block}\n",
       ".list-inline>li:not(:last-child)::after {content: \"\\00b7\"; padding: 0 .5ex}\n",
       "</style>\n",
       "<ol class=list-inline><li>'d0_3a'</li><li>'d0S_3a'</li><li>'d1_3a'</li><li>'d2_3a'</li><li>'d3_3a'</li><li>'d4_3a'</li><li>'d0_3b'</li><li>'d0S_3b'</li><li>'d1_3b'</li><li>'d2_3b'</li><li>'d3_3b'</li><li>'d4_3b'</li><li>'d0_tko'</li><li>'d0S_tko'</li><li>'d1_tko'</li><li>'d2_tko'</li><li>'d3_tko'</li><li>'d4_tko'</li><li>'d0_wt'</li><li>'d0S_wt'</li><li>'d1_wt'</li><li>'d2_wt'</li><li>'d3_wt'</li><li>'d4_wt'</li></ol>\n"
      ],
      "text/latex": [
       "\\begin{enumerate*}\n",
       "\\item 'd0\\_3a'\n",
       "\\item 'd0S\\_3a'\n",
       "\\item 'd1\\_3a'\n",
       "\\item 'd2\\_3a'\n",
       "\\item 'd3\\_3a'\n",
       "\\item 'd4\\_3a'\n",
       "\\item 'd0\\_3b'\n",
       "\\item 'd0S\\_3b'\n",
       "\\item 'd1\\_3b'\n",
       "\\item 'd2\\_3b'\n",
       "\\item 'd3\\_3b'\n",
       "\\item 'd4\\_3b'\n",
       "\\item 'd0\\_tko'\n",
       "\\item 'd0S\\_tko'\n",
       "\\item 'd1\\_tko'\n",
       "\\item 'd2\\_tko'\n",
       "\\item 'd3\\_tko'\n",
       "\\item 'd4\\_tko'\n",
       "\\item 'd0\\_wt'\n",
       "\\item 'd0S\\_wt'\n",
       "\\item 'd1\\_wt'\n",
       "\\item 'd2\\_wt'\n",
       "\\item 'd3\\_wt'\n",
       "\\item 'd4\\_wt'\n",
       "\\end{enumerate*}\n"
      ],
      "text/markdown": [
       "1. 'd0_3a'\n",
       "2. 'd0S_3a'\n",
       "3. 'd1_3a'\n",
       "4. 'd2_3a'\n",
       "5. 'd3_3a'\n",
       "6. 'd4_3a'\n",
       "7. 'd0_3b'\n",
       "8. 'd0S_3b'\n",
       "9. 'd1_3b'\n",
       "10. 'd2_3b'\n",
       "11. 'd3_3b'\n",
       "12. 'd4_3b'\n",
       "13. 'd0_tko'\n",
       "14. 'd0S_tko'\n",
       "15. 'd1_tko'\n",
       "16. 'd2_tko'\n",
       "17. 'd3_tko'\n",
       "18. 'd4_tko'\n",
       "19. 'd0_wt'\n",
       "20. 'd0S_wt'\n",
       "21. 'd1_wt'\n",
       "22. 'd2_wt'\n",
       "23. 'd3_wt'\n",
       "24. 'd4_wt'\n",
       "\n",
       "\n"
      ],
      "text/plain": [
       " [1] \"d0_3a\"   \"d0S_3a\"  \"d1_3a\"   \"d2_3a\"   \"d3_3a\"   \"d4_3a\"   \"d0_3b\"  \n",
       " [8] \"d0S_3b\"  \"d1_3b\"   \"d2_3b\"   \"d3_3b\"   \"d4_3b\"   \"d0_tko\"  \"d0S_tko\"\n",
       "[15] \"d1_tko\"  \"d2_tko\"  \"d3_tko\"  \"d4_tko\"  \"d0_wt\"   \"d0S_wt\"  \"d1_wt\"  \n",
       "[22] \"d2_wt\"   \"d3_wt\"   \"d4_wt\"  "
      ]
     },
     "metadata": {},
     "output_type": "display_data"
    }
   ],
   "source": [
    "colnames(m)"
   ]
  },
  {
   "cell_type": "markdown",
   "id": "b7d1864b-826a-4505-8318-cde9e4c137d8",
   "metadata": {},
   "source": [
    "### Cluster"
   ]
  },
  {
   "cell_type": "code",
   "execution_count": 6,
   "id": "a071d534-9677-43a5-8671-bcc59d9292e1",
   "metadata": {},
   "outputs": [
    {
     "data": {
      "text/html": [
       "<style>\n",
       ".list-inline {list-style: none; margin:0; padding: 0}\n",
       ".list-inline>li {display: inline-block}\n",
       ".list-inline>li:not(:last-child)::after {content: \"\\00b7\"; padding: 0 .5ex}\n",
       "</style>\n",
       "<ol class=list-inline><li>'d0_3a'</li><li>'d0S_3a'</li><li>'d1_3a'</li><li>'d2_3a'</li><li>'d3_3a'</li><li>'d4_3a'</li><li>'d0_3b'</li><li>'d0S_3b'</li><li>'d1_3b'</li><li>'d2_3b'</li><li>'d3_3b'</li><li>'d4_3b'</li><li>'d0_tko'</li><li>'d0S_tko'</li><li>'d1_tko'</li><li>'d2_tko'</li><li>'d3_tko'</li><li>'d4_tko'</li><li>'d0_wt'</li><li>'d0S_wt'</li><li>'d1_wt'</li><li>'d2_wt'</li><li>'d3_wt'</li><li>'d4_wt'</li></ol>\n"
      ],
      "text/latex": [
       "\\begin{enumerate*}\n",
       "\\item 'd0\\_3a'\n",
       "\\item 'd0S\\_3a'\n",
       "\\item 'd1\\_3a'\n",
       "\\item 'd2\\_3a'\n",
       "\\item 'd3\\_3a'\n",
       "\\item 'd4\\_3a'\n",
       "\\item 'd0\\_3b'\n",
       "\\item 'd0S\\_3b'\n",
       "\\item 'd1\\_3b'\n",
       "\\item 'd2\\_3b'\n",
       "\\item 'd3\\_3b'\n",
       "\\item 'd4\\_3b'\n",
       "\\item 'd0\\_tko'\n",
       "\\item 'd0S\\_tko'\n",
       "\\item 'd1\\_tko'\n",
       "\\item 'd2\\_tko'\n",
       "\\item 'd3\\_tko'\n",
       "\\item 'd4\\_tko'\n",
       "\\item 'd0\\_wt'\n",
       "\\item 'd0S\\_wt'\n",
       "\\item 'd1\\_wt'\n",
       "\\item 'd2\\_wt'\n",
       "\\item 'd3\\_wt'\n",
       "\\item 'd4\\_wt'\n",
       "\\end{enumerate*}\n"
      ],
      "text/markdown": [
       "1. 'd0_3a'\n",
       "2. 'd0S_3a'\n",
       "3. 'd1_3a'\n",
       "4. 'd2_3a'\n",
       "5. 'd3_3a'\n",
       "6. 'd4_3a'\n",
       "7. 'd0_3b'\n",
       "8. 'd0S_3b'\n",
       "9. 'd1_3b'\n",
       "10. 'd2_3b'\n",
       "11. 'd3_3b'\n",
       "12. 'd4_3b'\n",
       "13. 'd0_tko'\n",
       "14. 'd0S_tko'\n",
       "15. 'd1_tko'\n",
       "16. 'd2_tko'\n",
       "17. 'd3_tko'\n",
       "18. 'd4_tko'\n",
       "19. 'd0_wt'\n",
       "20. 'd0S_wt'\n",
       "21. 'd1_wt'\n",
       "22. 'd2_wt'\n",
       "23. 'd3_wt'\n",
       "24. 'd4_wt'\n",
       "\n",
       "\n"
      ],
      "text/plain": [
       " [1] \"d0_3a\"   \"d0S_3a\"  \"d1_3a\"   \"d2_3a\"   \"d3_3a\"   \"d4_3a\"   \"d0_3b\"  \n",
       " [8] \"d0S_3b\"  \"d1_3b\"   \"d2_3b\"   \"d3_3b\"   \"d4_3b\"   \"d0_tko\"  \"d0S_tko\"\n",
       "[15] \"d1_tko\"  \"d2_tko\"  \"d3_tko\"  \"d4_tko\"  \"d0_wt\"   \"d0S_wt\"  \"d1_wt\"  \n",
       "[22] \"d2_wt\"   \"d3_wt\"   \"d4_wt\"  "
      ]
     },
     "metadata": {},
     "output_type": "display_data"
    },
    {
     "data": {
      "text/html": [
       "<style>\n",
       ".list-inline {list-style: none; margin:0; padding: 0}\n",
       ".list-inline>li {display: inline-block}\n",
       ".list-inline>li:not(:last-child)::after {content: \"\\00b7\"; padding: 0 .5ex}\n",
       "</style>\n",
       "<ol class=list-inline><li>'d0_3a'</li><li>'d1_3a'</li><li>'d2_3a'</li><li>'d3_3a'</li><li>'d4_3a'</li><li>'d0_3b'</li><li>'d1_3b'</li><li>'d2_3b'</li><li>'d3_3b'</li><li>'d4_3b'</li><li>'d0_wt'</li><li>'d1_wt'</li><li>'d2_wt'</li><li>'d3_wt'</li><li>'d4_wt'</li><li>'d0_tko'</li><li>'d1_tko'</li><li>'d2_tko'</li><li>'d3_tko'</li><li>'d4_tko'</li><li>'d0S_3a'</li><li>'d0S_3b'</li><li>'d0S_wt'</li><li>'d0S_tko'</li></ol>\n"
      ],
      "text/latex": [
       "\\begin{enumerate*}\n",
       "\\item 'd0\\_3a'\n",
       "\\item 'd1\\_3a'\n",
       "\\item 'd2\\_3a'\n",
       "\\item 'd3\\_3a'\n",
       "\\item 'd4\\_3a'\n",
       "\\item 'd0\\_3b'\n",
       "\\item 'd1\\_3b'\n",
       "\\item 'd2\\_3b'\n",
       "\\item 'd3\\_3b'\n",
       "\\item 'd4\\_3b'\n",
       "\\item 'd0\\_wt'\n",
       "\\item 'd1\\_wt'\n",
       "\\item 'd2\\_wt'\n",
       "\\item 'd3\\_wt'\n",
       "\\item 'd4\\_wt'\n",
       "\\item 'd0\\_tko'\n",
       "\\item 'd1\\_tko'\n",
       "\\item 'd2\\_tko'\n",
       "\\item 'd3\\_tko'\n",
       "\\item 'd4\\_tko'\n",
       "\\item 'd0S\\_3a'\n",
       "\\item 'd0S\\_3b'\n",
       "\\item 'd0S\\_wt'\n",
       "\\item 'd0S\\_tko'\n",
       "\\end{enumerate*}\n"
      ],
      "text/markdown": [
       "1. 'd0_3a'\n",
       "2. 'd1_3a'\n",
       "3. 'd2_3a'\n",
       "4. 'd3_3a'\n",
       "5. 'd4_3a'\n",
       "6. 'd0_3b'\n",
       "7. 'd1_3b'\n",
       "8. 'd2_3b'\n",
       "9. 'd3_3b'\n",
       "10. 'd4_3b'\n",
       "11. 'd0_wt'\n",
       "12. 'd1_wt'\n",
       "13. 'd2_wt'\n",
       "14. 'd3_wt'\n",
       "15. 'd4_wt'\n",
       "16. 'd0_tko'\n",
       "17. 'd1_tko'\n",
       "18. 'd2_tko'\n",
       "19. 'd3_tko'\n",
       "20. 'd4_tko'\n",
       "21. 'd0S_3a'\n",
       "22. 'd0S_3b'\n",
       "23. 'd0S_wt'\n",
       "24. 'd0S_tko'\n",
       "\n",
       "\n"
      ],
      "text/plain": [
       " [1] \"d0_3a\"   \"d1_3a\"   \"d2_3a\"   \"d3_3a\"   \"d4_3a\"   \"d0_3b\"   \"d1_3b\"  \n",
       " [8] \"d2_3b\"   \"d3_3b\"   \"d4_3b\"   \"d0_wt\"   \"d1_wt\"   \"d2_wt\"   \"d3_wt\"  \n",
       "[15] \"d4_wt\"   \"d0_tko\"  \"d1_tko\"  \"d2_tko\"  \"d3_tko\"  \"d4_tko\"  \"d0S_3a\" \n",
       "[22] \"d0S_3b\"  \"d0S_wt\"  \"d0S_tko\""
      ]
     },
     "metadata": {},
     "output_type": "display_data"
    }
   ],
   "source": [
    "colnames(m)\n",
    "m_column_order <- c(\n",
    "    \"d0_3a\", \"d1_3a\", \"d2_3a\", \"d3_3a\", \"d4_3a\",\n",
    "    \"d0_3b\", \"d1_3b\", \"d2_3b\", \"d3_3b\", \"d4_3b\",\n",
    "    \"d0_wt\", \"d1_wt\", \"d2_wt\", \"d3_wt\", \"d4_wt\",    \n",
    "    \"d0_tko\", \"d1_tko\", \"d2_tko\", \"d3_tko\", \"d4_tko\",\n",
    "    \"d0S_3a\", \"d0S_3b\", \"d0S_wt\", \"d0S_tko\"\n",
    ")\n",
    "m <- m[, m_column_order]\n",
    "colnames(m)"
   ]
  },
  {
   "cell_type": "code",
   "execution_count": 7,
   "id": "1665437b-fae5-4125-a6f2-b76738bb8be4",
   "metadata": {},
   "outputs": [
    {
     "name": "stderr",
     "output_type": "stream",
     "text": [
      "Using cached rds from '/net/mraid14/export/tgdata/users/aviezerl/proj/ebdnmt/Dnmt3ab_EB/methylation/output/meth_capt_clust.rds'\n",
      "\n"
     ]
    }
   ],
   "source": [
    "K <- 60\n",
    "km <- tglkmeans::TGL_kmeans(m, K, id_column=FALSE, seed=19) %cache_rds% here(\"output/meth_capt_clust.rds\")"
   ]
  },
  {
   "cell_type": "code",
   "execution_count": 8,
   "id": "4e668a5b-70a4-45ee-930c-381b848f5ac1",
   "metadata": {},
   "outputs": [],
   "source": [
    "km_m_3a <- rowSums(km$centers[,c(\"d1_3a\",\"d2_3a\",\"d3_3a\",\"d4_3a\")])\n",
    "km_m_3b <- rowSums(km$centers[,c(\"d1_3b\",\"d2_3b\",\"d3_3b\",\"d4_3b\")])\n",
    "km_m_wt <- rowSums(km$centers[,c(\"d1_wt\",\"d2_wt\",\"d3_wt\",\"d4_wt\")])\n",
    "cent_dlt <- km$centers[,c(\"d1_3a\",\"d2_3a\",\"d3_3a\",\"d4_3a\")]-\n",
    "km$centers[,c(\"d1_3b\",\"d2_3b\",\"d3_3b\",\"d4_3b\")]"
   ]
  },
  {
   "cell_type": "code",
   "execution_count": 9,
   "id": "1d2dc44a-417e-4600-bd08-6e12483400e7",
   "metadata": {},
   "outputs": [],
   "source": [
    "dlt24 <- cent_dlt[,2]-cent_dlt[,4]\n",
    "\n",
    "clst_mod <- rep(0, K)\n",
    "clst_mod[(km_m_3a-km_m_3b) < -0.3 & dlt24 > -0.05] <- 3\n",
    "clst_mod[(km_m_3a-km_m_3b) < -0.2 & dlt24 < -0.05] <- 2\n",
    "clst_mod[(km_m_3a-km_m_3b) > 0.2] <- 1"
   ]
  },
  {
   "cell_type": "code",
   "execution_count": 10,
   "id": "aa27b674-b82c-4f48-98c6-14225862d3b6",
   "metadata": {},
   "outputs": [],
   "source": [
    "smooth_n = floor(nrow(m)/1000)+1\n",
    "km_mean_e = rowSums(km$centers)\n",
    "tot_cent_dlt = rowSums(cent_dlt)\n",
    "\n",
    "k_ord = order(ifelse(clst_mod==0, \n",
    "                    km_mean_e, \n",
    "                    abs(tot_cent_dlt)) + clst_mod*20)\n",
    "clst_map <- 1:K\n",
    "names(clst_map) <- as.character(k_ord)\n",
    "clst <- km$cluster\n",
    "clst_sorted <- clst_map[as.character(clst)]\n",
    "km$cluster <- clst_sorted\n",
    "km$centers <- km$centers[k_ord,]\n",
    "rownames(km$centers) <- 1:K\n",
    "m_ord <- order(km$cluster)"
   ]
  },
  {
   "cell_type": "code",
   "execution_count": null,
   "id": "fd7ed696-5726-4b48-87a7-5f7f6eb8e791",
   "metadata": {},
   "outputs": [],
   "source": [
    "m_s5 = apply(m[m_ord,-1],2, zoo::rollmean, smooth_n, fill=c('extend',NA,'extend'), na.rm=T)\n",
    "\n",
    "colnames(m_s5) = colnames(m)[-1]"
   ]
  },
  {
   "cell_type": "code",
   "execution_count": null,
   "id": "91e9db53-6ef2-4539-af8a-c7409dd93c5e",
   "metadata": {},
   "outputs": [],
   "source": [
    "dim(m_s5)"
   ]
  },
  {
   "cell_type": "code",
   "execution_count": null,
   "id": "382ca4ee-4a63-40e7-868c-4a260802d46d",
   "metadata": {},
   "outputs": [],
   "source": [
    "options(repr.plot.width = 8, repr.plot.height = 20)\n",
    "plot_clust <- function() {\n",
    "    shades <- colorRampPalette(c(\"white\", \"#635547\", \"#DABE99\",\"#C594BF\",\"#B51D8D\",\"darkred\", \"yellow\"))(1000)\n",
    "    image(t(as.matrix(m_s5)),col=shades, xaxt='n', yaxt='n'); \n",
    "    N = length(m_ord)\n",
    "\n",
    "    m_y = tapply((1:N)/N, km$cluster[m_ord], mean)\n",
    "    mtext(1:K, at = m_y, las=2, side= 2)\n",
    "    mtext(1:K, at = m_y, las=2, side= 4)\n",
    "    abline(h=tapply((1:N)/N, km$cluster[m_ord], max))\n",
    "}\n",
    "plot_clust()"
   ]
  },
  {
   "cell_type": "code",
   "execution_count": null,
   "id": "d17bb90e-e69c-4097-a77c-237a30960327",
   "metadata": {},
   "outputs": [],
   "source": [
    "options(repr.plot.width = 3, repr.plot.height = 10)\n",
    "plot_delta <- function(){\n",
    "    delta = m_s5[,c(\"d1_3a\",\"d2_3a\",\"d3_3a\",\"d4_3a\")]-\n",
    "            m_s5[,c(\"d1_3b\",\"d2_3b\",\"d3_3b\",\"d4_3b\")]\n",
    "\n",
    "    dshades <- colorRampPalette(c(\"red\",\"darkred\",\"white\",\"darkblue\",\"blue\"))(1000)\n",
    "    image(pmin(pmax(t(as.matrix(delta)),-0.3),0.3),col=dshades,zlim=c(-0.3,0.3))\n",
    "}\n",
    "plot_delta()"
   ]
  },
  {
   "cell_type": "markdown",
   "id": "e7b2e909-7044-45bb-b35c-5fc45c170428",
   "metadata": {},
   "source": [
    "### Project DNMT1 data"
   ]
  },
  {
   "cell_type": "code",
   "execution_count": null,
   "id": "f707520f-7b4a-4142-ba76-64240dd784ae",
   "metadata": {},
   "outputs": [],
   "source": [
    "clust_intervs <- m %>% mat_to_intervs() %>% select(chrom:end)"
   ]
  },
  {
   "cell_type": "code",
   "execution_count": null,
   "id": "12b6f5aa-decb-4819-9d4e-7255860516d6",
   "metadata": {},
   "outputs": [],
   "source": [
    "all_clust_data <- calc_eb_cpg_meth(from = 0, to = 5, min_cov = 10, max_na = NULL, intervals = clust_intervs, iterator = clust_intervs, cache_fn = here(\"output/all_clust_data.tsv\"), rm_meth_cov = TRUE)"
   ]
  },
  {
   "cell_type": "code",
   "execution_count": null,
   "id": "3959ad68-f71e-4206-bc03-ef7c0a43c97e",
   "metadata": {},
   "outputs": [],
   "source": [
    "colnames(all_clust_data)"
   ]
  },
  {
   "cell_type": "code",
   "execution_count": null,
   "id": "943fe5f1-b17c-45b6-bf59-7c1b10bcb70a",
   "metadata": {},
   "outputs": [],
   "source": [
    "m_column_order <- c(\n",
    "    \"d0_3a\", \"d1_3a\", \"d2_3a\", \"d3_3a\", \"d4_3a\", \n",
    "    \"d0_3b\", \"d1_3b\", \"d2_3b\", \"d3_3b\", \"d4_3b\", \n",
    "    \"d0_wt\", \"d1_wt\", \"d2_wt\", \"d3_wt\", \"d4_wt\", \n",
    "    \"d0_tko\", \"d1_tko\", \"d2_tko\", \"d3_tko\", \"d4_tko\",\n",
    "    \"d0S_3a\", \"d0S_3b\", \"d0S_wt\", \"d0S_tko\", \"d0S_ko1\",\n",
    "    \"d0_ko1\", \"d1_ko1\", \"d2_ko1\", \"d3_ko1\", \"d4_ko1\", \n",
    "    \"d0_d13ako\", \"d3_d13ako\", \"d4_d13ako\",\n",
    "    \"d0_d13bko\", \"d3_d13bko\", \"d4_d13bko\"\n",
    ")\n",
    "setdiff(colnames(all_clust_data)[-1:-3], m_column_order)"
   ]
  },
  {
   "cell_type": "code",
   "execution_count": null,
   "id": "1abf2b49-d444-400d-b08b-ed78e1741b44",
   "metadata": {},
   "outputs": [],
   "source": [
    "m_all <- intervs_to_mat(all_clust_data)[, m_column_order]\n",
    "colnames(m_all)"
   ]
  },
  {
   "cell_type": "code",
   "execution_count": null,
   "id": "fab57470-a13c-4eb8-8d6f-c5bb8a150ffd",
   "metadata": {},
   "outputs": [],
   "source": [
    "m_all_s5 = apply(m_all[m_ord, ],2, zoo::rollmean, smooth_n, fill=c('extend',NA,'extend'), na.rm=T)"
   ]
  },
  {
   "cell_type": "code",
   "execution_count": null,
   "id": "84f01556-f814-4c57-a63a-89d8eb6289f6",
   "metadata": {},
   "outputs": [],
   "source": [
    "head(m_all_s5)"
   ]
  },
  {
   "cell_type": "code",
   "execution_count": null,
   "id": "35e90437-cd04-4ed8-869a-3674533e6f47",
   "metadata": {},
   "outputs": [],
   "source": [
    "days <- strsplit(colnames(m_all_s5), split = \"_\") %>% map_chr(~ .x[1]) %>% gsub(\"d\", \"\", .) \n",
    "days[grep(\"0S\", days)] <- c(\"A\", \"B\", \"WT\", \"TKO\", \"KO1\")"
   ]
  },
  {
   "cell_type": "code",
   "execution_count": null,
   "id": "474de752-79aa-4228-8d49-81ea2da916ec",
   "metadata": {},
   "outputs": [],
   "source": [
    "options(repr.plot.width = 20, repr.plot.height = 20)\n",
    "shades <- colorRampPalette(c(\"white\", \"#635547\", \"#DABE99\",\"#C594BF\",\"#B51D8D\",\"darkred\", \"yellow\"))(1000)\n",
    "image(t(as.matrix(m_all_s5)),col=shades, xaxt='n', yaxt='n'); \n",
    "N = length(m_ord)\n",
    "\n",
    "m_y = tapply((1:N)/N, km$cluster[m_ord], mean)\n",
    "mtext(1:K, at = m_y, las=2, side= 2)\n",
    "mtext(1:K, at = m_y, las=2, side= 4)\n",
    "axis(3, at = seq(0, 1, length = ncol(m_all_s5)), labels = days)\n",
    "abline(h=tapply((1:N)/N, km$cluster[m_ord], max))"
   ]
  },
  {
   "cell_type": "code",
   "execution_count": null,
   "id": "ba255c29-ed77-467f-9246-dc36163db8c8",
   "metadata": {},
   "outputs": [],
   "source": [
    "options(repr.plot.width = 3, repr.plot.height = 20)\n",
    "delta = m_s5[,c(\"d1_3a\",\"d2_3a\",\"d3_3a\",\"d4_3a\")]-\n",
    "        m_s5[,c(\"d1_3b\",\"d2_3b\",\"d3_3b\",\"d4_3b\")]\n",
    "\n",
    "dshades <- colorRampPalette(c(\"red\",\"darkred\",\"white\",\"darkblue\",\"blue\"))(1000)\n",
    "image(pmin(pmax(t(as.matrix(delta)),-0.3),0.3),col=dshades,zlim=c(-0.3,0.3))"
   ]
  },
  {
   "cell_type": "markdown",
   "id": "0d319dcd-6859-446d-9d4a-450fa1a82166",
   "metadata": {},
   "source": [
    "#### Trajectory per cluster"
   ]
  },
  {
   "cell_type": "code",
   "execution_count": null,
   "id": "dbf5b6aa-ab93-489e-a7e7-cb7724a5f819",
   "metadata": {},
   "outputs": [],
   "source": [
    "chosen_clusters <- c(1, 9, 19, 24, 30, 32, 40, 44, 53, 60)"
   ]
  },
  {
   "cell_type": "code",
   "execution_count": null,
   "id": "34fcdf1d-77dc-4e82-923b-8def4975b980",
   "metadata": {},
   "outputs": [],
   "source": [
    "line_colors <- c(\"wt\" = \"darkblue\", \"3a\" = \"purple\", \"3b\" = \"orange\", \"tko\" = \"darkgray\", \"ko1\" = \"darkgreen\", \"d13ako\" = \"turquoise4\", \"d13bko\" = \"orangered4\")"
   ]
  },
  {
   "cell_type": "code",
   "execution_count": null,
   "id": "e52d2339-bf83-4de5-beb0-c2c2970efd1a",
   "metadata": {},
   "outputs": [],
   "source": [
    "df <- all_clust_data %>%         \n",
    "    mutate(clust = km$cluster) %>% \n",
    "    group_by(clust) %>% \n",
    "    summarise_at(vars(starts_with(\"d\")), mean, na.rm=TRUE) %>% \n",
    "    gather(\"samp\", \"meth\", -clust) %>% \n",
    "    separate(samp, c(\"day\", \"line\"), sep=\"_\") %>% \n",
    "    filter(day != \"d0S\", day != \"d5\") %>% \n",
    "    mutate(day = gsub(\"d\", \"\", day)) %>% \n",
    "    mutate(line = factor(line, levels = names(line_colors)))"
   ]
  },
  {
   "cell_type": "code",
   "execution_count": null,
   "id": "3d83e1dc-879d-4f27-9000-9d54fd4eaa2a",
   "metadata": {},
   "outputs": [],
   "source": [
    "options(repr.plot.width = 5, repr.plot.height = 15)\n",
    "df %>% \n",
    "    filter(clust %in% chosen_clusters) %>% \n",
    "    mutate(clust = factor(clust), clust = forcats::fct_rev(clust)) %>% \n",
    "    ggplot(aes(x=day, y=meth, color=line, group=line)) + \n",
    "        geom_line() + \n",
    "        geom_point(size=0.5) + \n",
    "        xlab(\"EB day\") + \n",
    "        ylab(\"Meth.\") + \n",
    "        theme(aspect.ratio = 1) + \n",
    "        facet_grid(clust~.) + \n",
    "        scale_color_manual(name = \"\", values = line_colors) + \n",
    "        scale_y_continuous(limits=c(0,1))"
   ]
  },
  {
   "cell_type": "markdown",
   "id": "3c41ffb3-1a74-454d-854e-9af1d6b47d28",
   "metadata": {},
   "source": [
    "## Plot global EB trends"
   ]
  },
  {
   "cell_type": "markdown",
   "id": "af66a5f3-fecc-4972-a58c-69695a1c0cc4",
   "metadata": {},
   "source": [
    "### Figure 4A"
   ]
  },
  {
   "cell_type": "code",
   "execution_count": null,
   "id": "6c834a9f-3b70-4a5f-bd0a-b5acf7274dfb",
   "metadata": {},
   "outputs": [],
   "source": [
    "cpg_meth1 <- gextract.left_join(\"seq.CG_500_mean\", intervals=cpg_meth, iterator=cpg_meth, colnames=\"cg_cont\") %>% select(-(chrom1:end1)) %>% select(chrom, start, end, cg_cont, everything()) %>% as_tibble()"
   ]
  },
  {
   "cell_type": "code",
   "execution_count": null,
   "id": "ce0a339a-8419-4c0a-a322-81e2f697b035",
   "metadata": {},
   "outputs": [],
   "source": [
    "line_colors <- c(\"wt\" = \"darkblue\", \"3a\" = \"purple\", \"3b\" = \"orange\", \"tko\" = \"darkgray\")\n",
    "df <- cpg_meth1 %>% \n",
    "    mutate(cg_cont = cut(cg_cont, c(0,0.03,0.08,0.15), include.lowest=TRUE, labels=c(\"low\", \"mid\", \"high\"))) %>% \n",
    "    group_by(cg_cont) %>% \n",
    "    summarise_at(vars(starts_with(\"d\")), mean, na.rm=TRUE) %>% \n",
    "    gather(\"samp\", \"meth\", -cg_cont) %>% \n",
    "    separate(samp, c(\"day\", \"line\"), sep=\"_\") %>% \n",
    "    filter(day != \"d0S\") %>% \n",
    "    mutate(day = gsub(\"d\", \"\", day)) %>% \n",
    "    mutate(line = factor(line, levels = names(line_colors)))"
   ]
  },
  {
   "cell_type": "code",
   "execution_count": null,
   "id": "0d2ddf86-f953-420b-9cd3-b199fb7b27d7",
   "metadata": {},
   "outputs": [],
   "source": [
    "options(repr.plot.width = 14, repr.plot.height = 7)\n",
    "p_high <- df %>% filter(cg_cont == \"high\") %>% ggplot(aes(x=day, y=meth, color=line, group=line)) + geom_line() + geom_point(size=0.5) + ggtitle(\"High CpG content\") + xlab(\"EB day\") + ylab(\"Meth.\") + theme(aspect.ratio = 1) + scale_color_manual(name = \"\", values = line_colors) + scale_y_continuous(limits=c(0,0.8))\n",
    "p_low <- df %>% filter(cg_cont == \"low\") %>% ggplot(aes(x=day, y=meth, color=line, group=line)) + geom_line() + geom_point(size=0.5) + ggtitle(\"Low CpG content\") + xlab(\"EB day\") + ylab(\"Meth.\") + theme(aspect.ratio = 1) + scale_color_manual(name = \"\", values = line_colors) + scale_y_continuous(limits=c(0,0.8))\n",
    "p_high + p_low"
   ]
  },
  {
   "cell_type": "markdown",
   "id": "680574ad-1474-47dd-9da6-9c572713d8a7",
   "metadata": {},
   "source": [
    "### Extended Data Figure 8K"
   ]
  },
  {
   "cell_type": "markdown",
   "id": "4c0558ba-f98b-43a0-9b71-4c24685ced09",
   "metadata": {},
   "source": [
    "Same for X chromosome"
   ]
  },
  {
   "cell_type": "code",
   "execution_count": null,
   "id": "85d5074c-e7c0-47f5-8c47-9bfe83d808b0",
   "metadata": {},
   "outputs": [],
   "source": [
    "line_colors <- c(\"wt\" = \"darkblue\", \"3a\" = \"purple\", \"3b\" = \"orange\", \"tko\" = \"darkgray\")\n",
    "df <- cpg_meth1 %>% \n",
    "    mutate(type = case_when(chrom == \"chrX\" ~ \"X\", TRUE ~ \"autosome\")) %>% \n",
    "    mutate(cg_cont = cut(cg_cont, c(0,0.03,0.08,0.15), include.lowest=TRUE, labels=c(\"low\", \"mid\", \"high\"))) %>% \n",
    "    group_by(type, cg_cont) %>% \n",
    "    summarise_at(vars(starts_with(\"d\")), mean, na.rm=TRUE) %>% \n",
    "    gather(\"samp\", \"meth\", -cg_cont, -type) %>% \n",
    "    separate(samp, c(\"day\", \"line\"), sep=\"_\") %>% \n",
    "    filter(day != \"d0S\") %>% \n",
    "    mutate(day = gsub(\"d\", \"\", day)) %>% \n",
    "    mutate(line = factor(line, levels = names(line_colors)))"
   ]
  },
  {
   "cell_type": "code",
   "execution_count": null,
   "id": "f4b7c11c-a788-4af7-9642-b0b23f1cbc9e",
   "metadata": {},
   "outputs": [],
   "source": [
    "options(repr.plot.width = 14, repr.plot.height = 7)\n",
    "p_high_x <- df %>% filter(type == \"X\", cg_cont == \"high\") %>% ggplot(aes(x=day, y=meth, color=line, group=line)) + geom_line() + geom_point(size=0.5) + ggtitle(\"X chromosome:\\nHigh CpG content\") + xlab(\"EB day\") + ylab(\"Meth.\") + theme(aspect.ratio = 1) + scale_color_manual(name = \"\", values = line_colors) + scale_y_continuous(limits=c(0,0.8))\n",
    "p_low_x <- df %>% filter(type == \"X\", cg_cont == \"low\") %>% ggplot(aes(x=day, y=meth, color=line, group=line)) + geom_line() + geom_point(size=0.5) + ggtitle(\"X chromosome:\\nLow CpG content\") + xlab(\"EB day\") + ylab(\"Meth.\") + theme(aspect.ratio = 1) + scale_color_manual(name = \"\", values = line_colors) + scale_y_continuous(limits=c(0,0.8))\n",
    "p_high_x + p_low_x"
   ]
  },
  {
   "cell_type": "markdown",
   "id": "dbc50944-5000-40e6-ba23-6dcdf4903e9a",
   "metadata": {},
   "source": [
    "## cluster methylation in days 5 and 6 with DKO"
   ]
  },
  {
   "cell_type": "code",
   "execution_count": null,
   "id": "74620f58-32f4-41bf-9ae8-65368e6afe09",
   "metadata": {
    "tags": []
   },
   "outputs": [],
   "source": [
    "cpg_meth_56 <- calc_eb_day5_to_day6_cpg_meth()"
   ]
  },
  {
   "cell_type": "markdown",
   "id": "f3c3c944-7dfd-4307-885d-97a1370904ef",
   "metadata": {},
   "source": [
    "### Project DKO on day 1-4 clusters"
   ]
  },
  {
   "cell_type": "code",
   "execution_count": null,
   "id": "59eec26f-82fa-4e1a-9b4c-488c00dea230",
   "metadata": {},
   "outputs": [],
   "source": [
    "all_clust_data <- calc_eb_cpg_meth(from = 0, to = 6, min_cov = 10, max_na = NULL, intervals = clust_intervs, iterator = clust_intervs, cache_fn = here(\"output/all_clust_data_day1_to_6.tsv\"), rm_meth_cov = TRUE, tracks_key = NULL)"
   ]
  },
  {
   "cell_type": "code",
   "execution_count": null,
   "id": "70a95686-ab68-4f44-91a4-9eef73d5e754",
   "metadata": {},
   "outputs": [],
   "source": [
    "m_column_order <- c(\n",
    "    \"d0_3a\", \"d1_3a\", \"d2_3a\", \"d3_3a\", \"d4_3a\",  \"d5_3a\", \"d6_3a\", \n",
    "    \"d0_3b\", \"d1_3b\", \"d2_3b\", \"d3_3b\", \"d4_3b\",  \"d5_3b\", \"d6_3b\",\n",
    "    \"d0_wt\", \"d1_wt\", \"d2_wt\", \"d3_wt\", \"d4_wt\",  \"d5_wt\", \"d6_wt\",\n",
    "    \"d5_dko\", \"d6_dko\",\n",
    "    \"d0_tko\", \"d1_tko\", \"d2_tko\", \"d3_tko\", \"d4_tko\", \n",
    "    \"d0S_3a\", \"d0S_3b\", \"d0S_wt\", \"d0S_tko\"\n",
    ")\n",
    "setdiff(colnames(all_clust_data)[-1:-3], m_column_order)"
   ]
  },
  {
   "cell_type": "code",
   "execution_count": null,
   "id": "b18ec6a3-e141-485d-9075-a4dc9453fc14",
   "metadata": {},
   "outputs": [],
   "source": [
    "setdiff(m_column_order, colnames(all_clust_data))"
   ]
  },
  {
   "cell_type": "code",
   "execution_count": null,
   "id": "c38a5a48-b5ad-463d-91f0-798ee90e58d9",
   "metadata": {},
   "outputs": [],
   "source": [
    "m_all <- intervs_to_mat(all_clust_data)[, m_column_order]\n",
    "colnames(m_all)"
   ]
  },
  {
   "cell_type": "code",
   "execution_count": null,
   "id": "f1013a97-65e0-4b1e-9f4e-1a9ddf93502d",
   "metadata": {},
   "outputs": [],
   "source": [
    "m_all_s5 = apply(m_all[m_ord, ],2, zoo::rollmean, smooth_n, fill=c('extend',NA,'extend'), na.rm=T)"
   ]
  },
  {
   "cell_type": "code",
   "execution_count": null,
   "id": "20fce985-e7cb-4634-9da6-25731cb6e9b4",
   "metadata": {},
   "outputs": [],
   "source": [
    "head(m_all_s5)"
   ]
  },
  {
   "cell_type": "code",
   "execution_count": null,
   "id": "3b406621-5ef2-4ca3-b175-bd1b48b31cfc",
   "metadata": {},
   "outputs": [],
   "source": [
    "days <- strsplit(colnames(m_all_s5), split = \"_\") %>% map_chr(~ .x[1]) %>% gsub(\"d\", \"\", .)\n",
    "days"
   ]
  },
  {
   "cell_type": "code",
   "execution_count": null,
   "id": "60a2ddbd-6fdb-48cf-8635-c615a414c7d1",
   "metadata": {},
   "outputs": [],
   "source": [
    "days[grep(\"0S\", days)] <- c(\"A\", \"B\", \"WT\", \"TKO\")"
   ]
  },
  {
   "cell_type": "markdown",
   "id": "5e74e489-cc47-4c98-ad3f-986c304ec394",
   "metadata": {},
   "source": [
    "### Figure 4C"
   ]
  },
  {
   "cell_type": "code",
   "execution_count": null,
   "id": "2c8bb128-2bb1-4ed3-b5db-af9b14635076",
   "metadata": {},
   "outputs": [],
   "source": [
    "options(repr.plot.width = 20, repr.plot.height = 20)\n",
    "shades <- colorRampPalette(c(\"white\", \"#635547\", \"#DABE99\",\"#C594BF\",\"#B51D8D\",\"darkred\", \"yellow\"))(1000)\n",
    "image(t(as.matrix(m_all_s5)),col=shades, xaxt='n', yaxt='n'); \n",
    "N = length(m_ord)\n",
    "\n",
    "m_y = tapply((1:N)/N, km$cluster[m_ord], mean)\n",
    "mtext(1:K, at = m_y, las=2, side= 2)\n",
    "mtext(1:K, at = m_y, las=2, side= 4)\n",
    "axis(3, at = seq(0, 1, length = ncol(m_all_s5)), labels = days)\n",
    "abline(h=tapply((1:N)/N, km$cluster[m_ord], max))"
   ]
  },
  {
   "cell_type": "markdown",
   "id": "1160abbc-bce2-455b-bda4-6e49982d03e1",
   "metadata": {},
   "source": [
    "### Figure 4B"
   ]
  },
  {
   "cell_type": "code",
   "execution_count": null,
   "id": "388f39cb-9317-4c9b-bb41-be733ad3be26",
   "metadata": {},
   "outputs": [],
   "source": [
    "options(repr.plot.width = 3, repr.plot.height = 20)\n",
    "delta = m_s5[,c(\"d1_3a\",\"d2_3a\",\"d3_3a\",\"d4_3a\")]-\n",
    "        m_s5[,c(\"d1_3b\",\"d2_3b\",\"d3_3b\",\"d4_3b\")]\n",
    "\n",
    "dshades <- colorRampPalette(c(\"red\",\"darkred\",\"white\",\"darkblue\",\"blue\"))(1000)\n",
    "image(pmin(pmax(t(as.matrix(delta)),-0.3),0.3),col=dshades,zlim=c(-0.3,0.3))"
   ]
  }
 ],
 "metadata": {
  "kernelspec": {
   "display_name": "R",
   "language": "R",
   "name": "ir"
  },
  "language_info": {
   "codemirror_mode": "r",
   "file_extension": ".r",
   "mimetype": "text/x-r-source",
   "name": "R",
   "pygments_lexer": "r",
   "version": "4.0.3"
  }
 },
 "nbformat": 4,
 "nbformat_minor": 5
}
