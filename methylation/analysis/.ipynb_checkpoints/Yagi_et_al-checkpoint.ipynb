{
 "cells": [
  {
   "cell_type": "markdown",
   "metadata": {},
   "source": [
    "# Yagi et al. \n",
    "[Identification of distinct loci for de novo DNA methylation by DNMT3A and DNMT3B during mammalian development](https://www.nature.com/articles/s41467-020-16989-w)"
   ]
  },
  {
   "cell_type": "markdown",
   "metadata": {},
   "source": [
    "### initialize definitions"
   ]
  },
  {
   "cell_type": "code",
   "execution_count": 1,
   "metadata": {},
   "outputs": [],
   "source": [
    "suppressMessages(suppressWarnings(source(here::here(\"code/init.R\"))))"
   ]
  },
  {
   "cell_type": "markdown",
   "metadata": {},
   "source": [
    "### DMRs"
   ]
  },
  {
   "cell_type": "code",
   "execution_count": 2,
   "metadata": {},
   "outputs": [
    {
     "data": {
      "text/html": [
       "<table class=\"dataframe\">\n",
       "<caption>A tibble: 6 × 6</caption>\n",
       "<thead>\n",
       "\t<tr><th scope=col>chrom</th><th scope=col>start</th><th scope=col>end</th><th scope=col>type</th><th scope=col>Yagi_3a</th><th scope=col>Yagi_3b</th></tr>\n",
       "\t<tr><th scope=col>&lt;chr&gt;</th><th scope=col>&lt;int&gt;</th><th scope=col>&lt;int&gt;</th><th scope=col>&lt;chr&gt;</th><th scope=col>&lt;dbl&gt;</th><th scope=col>&lt;dbl&gt;</th></tr>\n",
       "</thead>\n",
       "<tbody>\n",
       "\t<tr><td>chr6 </td><td> 48387929</td><td> 48389217</td><td>proA</td><td>0.05732420</td><td>0.6731291</td></tr>\n",
       "\t<tr><td>chr3 </td><td> 55584536</td><td> 55588340</td><td>proA</td><td>0.02412445</td><td>0.4470477</td></tr>\n",
       "\t<tr><td>chr1 </td><td>186549516</td><td>186554917</td><td>proA</td><td>0.02829836</td><td>0.5260327</td></tr>\n",
       "\t<tr><td>chr4 </td><td>135845931</td><td>135846972</td><td>proA</td><td>0.10997219</td><td>0.6153078</td></tr>\n",
       "\t<tr><td>chr11</td><td>118941147</td><td>118943355</td><td>proA</td><td>0.04548308</td><td>0.6741248</td></tr>\n",
       "\t<tr><td>chr7 </td><td> 77491664</td><td> 77494580</td><td>proA</td><td>0.02552988</td><td>0.6597258</td></tr>\n",
       "</tbody>\n",
       "</table>\n"
      ],
      "text/latex": [
       "A tibble: 6 × 6\n",
       "\\begin{tabular}{llllll}\n",
       " chrom & start & end & type & Yagi\\_3a & Yagi\\_3b\\\\\n",
       " <chr> & <int> & <int> & <chr> & <dbl> & <dbl>\\\\\n",
       "\\hline\n",
       "\t chr6  &  48387929 &  48389217 & proA & 0.05732420 & 0.6731291\\\\\n",
       "\t chr3  &  55584536 &  55588340 & proA & 0.02412445 & 0.4470477\\\\\n",
       "\t chr1  & 186549516 & 186554917 & proA & 0.02829836 & 0.5260327\\\\\n",
       "\t chr4  & 135845931 & 135846972 & proA & 0.10997219 & 0.6153078\\\\\n",
       "\t chr11 & 118941147 & 118943355 & proA & 0.04548308 & 0.6741248\\\\\n",
       "\t chr7  &  77491664 &  77494580 & proA & 0.02552988 & 0.6597258\\\\\n",
       "\\end{tabular}\n"
      ],
      "text/markdown": [
       "\n",
       "A tibble: 6 × 6\n",
       "\n",
       "| chrom &lt;chr&gt; | start &lt;int&gt; | end &lt;int&gt; | type &lt;chr&gt; | Yagi_3a &lt;dbl&gt; | Yagi_3b &lt;dbl&gt; |\n",
       "|---|---|---|---|---|---|\n",
       "| chr6  |  48387929 |  48389217 | proA | 0.05732420 | 0.6731291 |\n",
       "| chr3  |  55584536 |  55588340 | proA | 0.02412445 | 0.4470477 |\n",
       "| chr1  | 186549516 | 186554917 | proA | 0.02829836 | 0.5260327 |\n",
       "| chr4  | 135845931 | 135846972 | proA | 0.10997219 | 0.6153078 |\n",
       "| chr11 | 118941147 | 118943355 | proA | 0.04548308 | 0.6741248 |\n",
       "| chr7  |  77491664 |  77494580 | proA | 0.02552988 | 0.6597258 |\n",
       "\n"
      ],
      "text/plain": [
       "  chrom start     end       type Yagi_3a    Yagi_3b  \n",
       "1 chr6   48387929  48389217 proA 0.05732420 0.6731291\n",
       "2 chr3   55584536  55588340 proA 0.02412445 0.4470477\n",
       "3 chr1  186549516 186554917 proA 0.02829836 0.5260327\n",
       "4 chr4  135845931 135846972 proA 0.10997219 0.6153078\n",
       "5 chr11 118941147 118943355 proA 0.04548308 0.6741248\n",
       "6 chr7   77491664  77494580 proA 0.02552988 0.6597258"
      ]
     },
     "metadata": {},
     "output_type": "display_data"
    },
    {
     "data": {
      "text/html": [
       "764"
      ],
      "text/latex": [
       "764"
      ],
      "text/markdown": [
       "764"
      ],
      "text/plain": [
       "[1] 764"
      ]
     },
     "metadata": {},
     "output_type": "display_data"
    }
   ],
   "source": [
    "yagi_dmrs <- fread(here(\"data/yagi_dmrs.tsv\")) %>% \n",
    "    filter(chrom %in% gintervals.all()$chrom) %>% \n",
    "    as_tibble() \n",
    "\n",
    "yagi_dmrs <- yagi_dmrs %>% \n",
    "    mutate(\n",
    "        Yagi_3a = ifelse(type == \"proA\", meanMethy2, meanMethy1),\n",
    "        Yagi_3b = ifelse(type == \"proB\", meanMethy2, meanMethy1)\n",
    "    )\n",
    "\n",
    "yagi_dmrs <- yagi_dmrs %>% \n",
    "    select(chrom, start, end, type, Yagi_3a, Yagi_3b)\n",
    "\n",
    "\n",
    "head(yagi_dmrs)\n",
    "nrow(yagi_dmrs)"
   ]
  },
  {
   "cell_type": "markdown",
   "metadata": {},
   "source": [
    "### Get Meissner data"
   ]
  },
  {
   "cell_type": "code",
   "execution_count": 3,
   "metadata": {},
   "outputs": [],
   "source": [
    "md <- tribble(~track_name, ~sort, ~num,\n",
    "    \"Meissner_Nature_2017.Epi_Dnmt3a_1\", \"ko3a\", 1,\n",
    "    \"Meissner_Nature_2017.Epi_Dnmt3a_2\", \"ko3a\", 2,\n",
    "    \"Meissner_Nature_2017.Epi_Dnmt3a_4\", \"ko3a\", 4,\n",
    "    \"Meissner_Nature_2017.Epi_Dnmt3a_5\", \"ko3a\", 5,\n",
    "    \"Meissner_Nature_2017.Epi_Dnmt3a_6\", \"ko3a\", 6,\n",
    "    \"Meissner_Nature_2017.Epi_Dnmt3b_1\", \"ko3b\", 1,\n",
    "    \"Meissner_Nature_2017.Epi_Dnmt3b_2\", \"ko3b\", 2,\n",
    "    \"Meissner_Nature_2017.Epi_Dnmt3b_3\", \"ko3b\", 3,\n",
    "    \"Meissner_Nature_2017.Epi_Dnmt3b_4\", \"ko3b\", 4,\n",
    "    \"Meissner_Nature_2017.Epi_Dnmt3b_5\", \"ko3b\", 5,\n",
    "    \"Meissner_Nature_2017.Epi_Dnmt3b_6\", \"ko3b\", 6,\n",
    "    \"Meissner_Nature_2017.Epi_WT_4\", \"wt\", 4,\n",
    "    \"Meissner_Nature_2017.Epi_WT_5\", \"wt\", 5,\n",
    "    \"Meissner_Nature_2017.Epi_WT_6\", \"wt\", 6,\n",
    "    \"Meissner_Nature_2017.Epi_WT_7\", \"wt\", 7) %>% \n",
    "        mutate(name = paste0(sort, \"_\", num))\n",
    "        \n",
    "m_all_epi6 <- gextract_meth(tracks = md$track_name, names=md$name, intervals=yagi_dmrs %>% select(chrom, start, end), extract_meth_calls = TRUE, iterator = yagi_dmrs %>% select(chrom, start, end)) %cache_df% here(\"output/meissner_epi_yagi_meth.tsv\")  %>% as_tibble()    "
   ]
  },
  {
   "cell_type": "code",
   "execution_count": 4,
   "metadata": {},
   "outputs": [],
   "source": [
    "min_cov <- 10\n",
    "m_epi6 <- m_all_epi6 %>% select(chrom, start, end)\n",
    "for (g in unique(md$sort)){\n",
    "        nms <- md %>% filter(sort == g) %>% pull(name)\n",
    "\n",
    "        cov_col <- paste0(g, \".cov\")\n",
    "        meth_col <- paste0(g, \".meth\")            \n",
    "\n",
    "        m_epi6[[cov_col]] <- rowSums(m_all_epi6[, paste0(nms, \".cov\")], na.rm=TRUE)\n",
    "        m_epi6[[meth_col]] <- rowSums(m_all_epi6[, paste0(nms, \".meth\")], na.rm=TRUE)\n",
    "        \n",
    "        m_epi6[[g]] <- ifelse(m_epi6[[cov_col]] >= min_cov, m_epi6[[meth_col]] / m_epi6[[cov_col]], NA)\n",
    "    }\n",
    "m_epi6 <- m_epi6 %>% select(-ends_with(\".meth\"), -ends_with(\".cov\"))  %cache_df% here(\"output/meissner_epi_yagi_meth_sum.tsv\")"
   ]
  },
  {
   "cell_type": "markdown",
   "metadata": {},
   "source": [
    "### Get MEEB data"
   ]
  },
  {
   "cell_type": "code",
   "execution_count": null,
   "metadata": {},
   "outputs": [],
   "source": [
    "m_meeb <- calc_eb_day0_to_day6_cpg_meth(intervals = yagi_dmrs %>% select(chrom, start, end), iterator =  yagi_dmrs %>% select(chrom, start, end), cache_fn = here(\"output/meeb_day0_to_day6_yagi_meth.tsv\"), use_sort = FALSE, max_na = 100) %>% \n",
    "    select(-ends_with(\"cov\"), -ends_with(\"meth\")) %>% \n",
    "    select(-contains(\"_ko1\"), -contains(\"_tko\"), -starts_with(\"d0_\"))"
   ]
  },
  {
   "cell_type": "code",
   "execution_count": null,
   "metadata": {},
   "outputs": [],
   "source": [
    "head(m_meeb)\n",
    "dim(m_meeb)"
   ]
  },
  {
   "cell_type": "code",
   "execution_count": null,
   "metadata": {},
   "outputs": [],
   "source": [
    "yagi_meth <- yagi_dmrs %>% \n",
    "    left_join(m_epi6) %>% \n",
    "    left_join(m_meeb)\n",
    "head(yagi_meth)\n",
    "yagi_meth %>% count(type)"
   ]
  },
  {
   "cell_type": "markdown",
   "metadata": {},
   "source": [
    "### Extended Data Figure 8I"
   ]
  },
  {
   "cell_type": "code",
   "execution_count": null,
   "metadata": {},
   "outputs": [],
   "source": [
    "options(repr.plot.width = 14, repr.plot.height = 7)\n",
    "line_colors <- c(\"wt\" = \"darkblue\", \"3a\" = \"purple\", \"3b\" = \"orange\")\n",
    "p_yagi <- yagi_meth %>%     \n",
    "    select(chrom:end, type, Yagi_3a, Yagi_3b, epi_ko3a = ko3a, epi_ko3b = ko3b, epi_wt = wt, everything()) %>% \n",
    "    gather(\"samp\", \"meth\", -(chrom:type)) %>%     \n",
    "    mutate(samp = gsub(\"_all\", \"\", samp)) %>% \n",
    "    mutate(line = case_when(\n",
    "        grepl(\"3a\", samp) ~ \"3a\",\n",
    "        grepl(\"3b\", samp) ~ \"3b\",\n",
    "        grepl(\"wt\", samp) ~ \"wt\"\n",
    "    )) %>% \n",
    "    mutate(line = factor(line, levels = names(line_colors))) %>%\n",
    "    ggplot(aes(x=samp, y=meth, fill=line)) + \n",
    "        geom_boxplot(outlier.size = 0, lwd = 0.1) + \n",
    "        xlab(\"\") + \n",
    "        ylab(\"Methylation\") + \n",
    "        scale_fill_manual(\"\", values=line_colors) + \n",
    "        vertical_labs() + \n",
    "        theme(axis.text.x=element_text(size=4)) + \n",
    "        facet_wrap(~type)\n",
    "\n",
    "p_yagi\n",
    "\n",
    "    "
   ]
  }
 ],
 "metadata": {
  "kernelspec": {
   "display_name": "R",
   "language": "R",
   "name": "ir"
  },
  "language_info": {
   "codemirror_mode": "r",
   "file_extension": ".r",
   "mimetype": "text/x-r-source",
   "name": "R",
   "pygments_lexer": "r",
   "version": "4.0.3"
  }
 },
 "nbformat": 4,
 "nbformat_minor": 4
}
