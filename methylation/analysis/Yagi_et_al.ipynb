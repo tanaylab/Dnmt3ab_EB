{
 "cells": [
  {
   "cell_type": "markdown",
   "metadata": {},
   "source": [
    "# Yagi et al. \n",
    "[Identification of distinct loci for de novo DNA methylation by DNMT3A and DNMT3B during mammalian development](https://www.nature.com/articles/s41467-020-16989-w)"
   ]
  },
  {
   "cell_type": "code",
   "execution_count": 1,
   "metadata": {},
   "outputs": [
    {
     "name": "stderr",
     "output_type": "stream",
     "text": [
      "── \u001b[1mAttaching packages\u001b[22m ─────────────────────────────────────── tidyverse 1.3.0 ──\n",
      "\n",
      "\u001b[32m✔\u001b[39m \u001b[34mggplot2\u001b[39m 3.3.3     \u001b[32m✔\u001b[39m \u001b[34mpurrr  \u001b[39m 0.3.4\n",
      "\u001b[32m✔\u001b[39m \u001b[34mtibble \u001b[39m 3.1.2     \u001b[32m✔\u001b[39m \u001b[34mdplyr  \u001b[39m 1.0.6\n",
      "\u001b[32m✔\u001b[39m \u001b[34mtidyr  \u001b[39m 1.1.3     \u001b[32m✔\u001b[39m \u001b[34mstringr\u001b[39m 1.4.0\n",
      "\u001b[32m✔\u001b[39m \u001b[34mreadr  \u001b[39m 1.4.0     \u001b[32m✔\u001b[39m \u001b[34mforcats\u001b[39m 0.5.1\n",
      "\n",
      "── \u001b[1mConflicts\u001b[22m ────────────────────────────────────────── tidyverse_conflicts() ──\n",
      "\u001b[31m✖\u001b[39m \u001b[34mdplyr\u001b[39m::\u001b[32mfilter()\u001b[39m masks \u001b[34mstats\u001b[39m::filter()\n",
      "\u001b[31m✖\u001b[39m \u001b[34mdplyr\u001b[39m::\u001b[32mlag()\u001b[39m    masks \u001b[34mstats\u001b[39m::lag()\n",
      "\n",
      "\n",
      "Attaching package: ‘tgppt’\n",
      "\n",
      "\n",
      "The following object is masked from ‘package:alutil’:\n",
      "\n",
      "    vertical_labs\n",
      "\n",
      "\n",
      "\n",
      "Attaching package: ‘glue’\n",
      "\n",
      "\n",
      "The following object is masked from ‘package:dplyr’:\n",
      "\n",
      "    collapse\n",
      "\n",
      "\n",
      "here() starts at /net/mraid14/export/tgdata/users/aviezerl/proj/ebdnmt\n",
      "\n",
      "Using cached dataframe from '/net/mraid14/export/tgdata/users/aviezerl/proj/ebdnmt/output/track_stats.csv'\n",
      "\n"
     ]
    }
   ],
   "source": [
    "alutil::register.source(here::here(\"code/init.R\"))\n",
    "rl <- alutil::rl\n",
    "theme_set(tgppt::theme_arial(7))"
   ]
  },
  {
   "cell_type": "markdown",
   "metadata": {},
   "source": [
    "### DMRs"
   ]
  },
  {
   "cell_type": "code",
   "execution_count": 50,
   "metadata": {},
   "outputs": [
    {
     "data": {
      "text/html": [
       "<table class=\"dataframe\">\n",
       "<caption>A tibble: 6 × 6</caption>\n",
       "<thead>\n",
       "\t<tr><th scope=col>chrom</th><th scope=col>start</th><th scope=col>end</th><th scope=col>type</th><th scope=col>Yagi_3a</th><th scope=col>Yagi_3b</th></tr>\n",
       "\t<tr><th scope=col>&lt;chr&gt;</th><th scope=col>&lt;int&gt;</th><th scope=col>&lt;int&gt;</th><th scope=col>&lt;chr&gt;</th><th scope=col>&lt;dbl&gt;</th><th scope=col>&lt;dbl&gt;</th></tr>\n",
       "</thead>\n",
       "<tbody>\n",
       "\t<tr><td>chr6 </td><td> 48387929</td><td> 48389217</td><td>proA</td><td>0.05732420</td><td>0.6731291</td></tr>\n",
       "\t<tr><td>chr3 </td><td> 55584536</td><td> 55588340</td><td>proA</td><td>0.02412445</td><td>0.4470477</td></tr>\n",
       "\t<tr><td>chr1 </td><td>186549516</td><td>186554917</td><td>proA</td><td>0.02829836</td><td>0.5260327</td></tr>\n",
       "\t<tr><td>chr4 </td><td>135845931</td><td>135846972</td><td>proA</td><td>0.10997219</td><td>0.6153078</td></tr>\n",
       "\t<tr><td>chr11</td><td>118941147</td><td>118943355</td><td>proA</td><td>0.04548308</td><td>0.6741248</td></tr>\n",
       "\t<tr><td>chr7 </td><td> 77491664</td><td> 77494580</td><td>proA</td><td>0.02552988</td><td>0.6597258</td></tr>\n",
       "</tbody>\n",
       "</table>\n"
      ],
      "text/latex": [
       "A tibble: 6 × 6\n",
       "\\begin{tabular}{llllll}\n",
       " chrom & start & end & type & Yagi\\_3a & Yagi\\_3b\\\\\n",
       " <chr> & <int> & <int> & <chr> & <dbl> & <dbl>\\\\\n",
       "\\hline\n",
       "\t chr6  &  48387929 &  48389217 & proA & 0.05732420 & 0.6731291\\\\\n",
       "\t chr3  &  55584536 &  55588340 & proA & 0.02412445 & 0.4470477\\\\\n",
       "\t chr1  & 186549516 & 186554917 & proA & 0.02829836 & 0.5260327\\\\\n",
       "\t chr4  & 135845931 & 135846972 & proA & 0.10997219 & 0.6153078\\\\\n",
       "\t chr11 & 118941147 & 118943355 & proA & 0.04548308 & 0.6741248\\\\\n",
       "\t chr7  &  77491664 &  77494580 & proA & 0.02552988 & 0.6597258\\\\\n",
       "\\end{tabular}\n"
      ],
      "text/markdown": [
       "\n",
       "A tibble: 6 × 6\n",
       "\n",
       "| chrom &lt;chr&gt; | start &lt;int&gt; | end &lt;int&gt; | type &lt;chr&gt; | Yagi_3a &lt;dbl&gt; | Yagi_3b &lt;dbl&gt; |\n",
       "|---|---|---|---|---|---|\n",
       "| chr6  |  48387929 |  48389217 | proA | 0.05732420 | 0.6731291 |\n",
       "| chr3  |  55584536 |  55588340 | proA | 0.02412445 | 0.4470477 |\n",
       "| chr1  | 186549516 | 186554917 | proA | 0.02829836 | 0.5260327 |\n",
       "| chr4  | 135845931 | 135846972 | proA | 0.10997219 | 0.6153078 |\n",
       "| chr11 | 118941147 | 118943355 | proA | 0.04548308 | 0.6741248 |\n",
       "| chr7  |  77491664 |  77494580 | proA | 0.02552988 | 0.6597258 |\n",
       "\n"
      ],
      "text/plain": [
       "  chrom start     end       type Yagi_3a    Yagi_3b  \n",
       "1 chr6   48387929  48389217 proA 0.05732420 0.6731291\n",
       "2 chr3   55584536  55588340 proA 0.02412445 0.4470477\n",
       "3 chr1  186549516 186554917 proA 0.02829836 0.5260327\n",
       "4 chr4  135845931 135846972 proA 0.10997219 0.6153078\n",
       "5 chr11 118941147 118943355 proA 0.04548308 0.6741248\n",
       "6 chr7   77491664  77494580 proA 0.02552988 0.6597258"
      ]
     },
     "metadata": {},
     "output_type": "display_data"
    },
    {
     "data": {
      "text/html": [
       "764"
      ],
      "text/latex": [
       "764"
      ],
      "text/markdown": [
       "764"
      ],
      "text/plain": [
       "[1] 764"
      ]
     },
     "metadata": {},
     "output_type": "display_data"
    }
   ],
   "source": [
    "yagi_dmrs <- fread(here(\"data/yagi_dmrs.tsv\")) %>% \n",
    "    filter(chrom %in% gintervals.all()$chrom) %>% \n",
    "    as_tibble() \n",
    "\n",
    "yagi_dmrs <- yagi_dmrs %>% \n",
    "    mutate(\n",
    "        Yagi_3a = ifelse(type == \"proA\", meanMethy2, meanMethy1),\n",
    "        Yagi_3b = ifelse(type == \"proB\", meanMethy2, meanMethy1)\n",
    "    )\n",
    "\n",
    "yagi_dmrs <- yagi_dmrs %>% \n",
    "    select(chrom, start, end, type, Yagi_3a, Yagi_3b)\n",
    "\n",
    "\n",
    "head(yagi_dmrs)\n",
    "nrow(yagi_dmrs)"
   ]
  },
  {
   "cell_type": "markdown",
   "metadata": {},
   "source": [
    "### Get Meissner data"
   ]
  },
  {
   "cell_type": "code",
   "execution_count": 51,
   "metadata": {},
   "outputs": [
    {
     "name": "stderr",
     "output_type": "stream",
     "text": [
      "Using cached dataframe from '/net/mraid14/export/tgdata/users/aviezerl/proj/ebdnmt/output/meissner_epi_yagi_meth.tsv'\n",
      "\n"
     ]
    }
   ],
   "source": [
    "md <- tribble(~track_name, ~sort, ~num,\n",
    "    \"Meissner_Nature_2017.Epi_Dnmt3a_1\", \"ko3a\", 1,\n",
    "    \"Meissner_Nature_2017.Epi_Dnmt3a_2\", \"ko3a\", 2,\n",
    "    \"Meissner_Nature_2017.Epi_Dnmt3a_4\", \"ko3a\", 4,\n",
    "    \"Meissner_Nature_2017.Epi_Dnmt3a_5\", \"ko3a\", 5,\n",
    "    \"Meissner_Nature_2017.Epi_Dnmt3a_6\", \"ko3a\", 6,\n",
    "    \"Meissner_Nature_2017.Epi_Dnmt3b_1\", \"ko3b\", 1,\n",
    "    \"Meissner_Nature_2017.Epi_Dnmt3b_2\", \"ko3b\", 2,\n",
    "    \"Meissner_Nature_2017.Epi_Dnmt3b_3\", \"ko3b\", 3,\n",
    "    \"Meissner_Nature_2017.Epi_Dnmt3b_4\", \"ko3b\", 4,\n",
    "    \"Meissner_Nature_2017.Epi_Dnmt3b_5\", \"ko3b\", 5,\n",
    "    \"Meissner_Nature_2017.Epi_Dnmt3b_6\", \"ko3b\", 6,\n",
    "    \"Meissner_Nature_2017.Epi_WT_4\", \"wt\", 4,\n",
    "    \"Meissner_Nature_2017.Epi_WT_5\", \"wt\", 5,\n",
    "    \"Meissner_Nature_2017.Epi_WT_6\", \"wt\", 6,\n",
    "    \"Meissner_Nature_2017.Epi_WT_7\", \"wt\", 7) %>% \n",
    "        mutate(name = paste0(sort, \"_\", num))\n",
    "        \n",
    "m_all_epi6 <- gextract_meth(tracks = md$track_name, names=md$name, intervals=yagi_dmrs %>% select(chrom, start, end), extract_meth_calls = TRUE, iterator = yagi_dmrs %>% select(chrom, start, end)) %cache_df% here(\"output/meissner_epi_yagi_meth.tsv\")  %>% as_tibble()    "
   ]
  },
  {
   "cell_type": "code",
   "execution_count": 52,
   "metadata": {},
   "outputs": [
    {
     "name": "stderr",
     "output_type": "stream",
     "text": [
      "Using cached dataframe from '/net/mraid14/export/tgdata/users/aviezerl/proj/ebdnmt/output/meissner_epi_yagi_meth_sum.tsv'\n",
      "\n"
     ]
    }
   ],
   "source": [
    "min_cov <- 10\n",
    "m_epi6 <- m_all_epi6 %>% select(chrom, start, end)\n",
    "for (g in unique(md$sort)){\n",
    "        nms <- md %>% filter(sort == g) %>% pull(name)\n",
    "\n",
    "        cov_col <- paste0(g, \".cov\")\n",
    "        meth_col <- paste0(g, \".meth\")            \n",
    "\n",
    "        m_epi6[[cov_col]] <- rowSums(m_all_epi6[, paste0(nms, \".cov\")], na.rm=TRUE)\n",
    "        m_epi6[[meth_col]] <- rowSums(m_all_epi6[, paste0(nms, \".meth\")], na.rm=TRUE)\n",
    "        \n",
    "        m_epi6[[g]] <- ifelse(m_epi6[[cov_col]] >= min_cov, m_epi6[[meth_col]] / m_epi6[[cov_col]], NA)\n",
    "    }\n",
    "m_epi6 <- m_epi6 %>% select(-ends_with(\".meth\"), -ends_with(\".cov\"))  %cache_df% here(\"output/meissner_epi_yagi_meth_sum.tsv\")"
   ]
  },
  {
   "cell_type": "markdown",
   "metadata": {},
   "source": [
    "### Get MEEB data"
   ]
  },
  {
   "cell_type": "code",
   "execution_count": 70,
   "metadata": {},
   "outputs": [
    {
     "name": "stderr",
     "output_type": "stream",
     "text": [
      "Using cached dataframe from '/net/mraid14/export/tgdata/users/aviezerl/proj/ebdnmt/output/meeb_day0_to_day6_yagi_meth.tsv'\n",
      "\n"
     ]
    }
   ],
   "source": [
    "m_meeb <- calc_eb_day0_to_day6_cpg_meth(intervals = yagi_dmrs %>% select(chrom, start, end), iterator =  yagi_dmrs %>% select(chrom, start, end), cache_fn = here(\"output/meeb_day0_to_day6_yagi_meth.tsv\"), use_sort = FALSE, max_na = 100) %>% \n",
    "    select(-ends_with(\"cov\"), -ends_with(\"meth\")) %>% \n",
    "    select(-contains(\"_ko1\"), -contains(\"_tko\"), -starts_with(\"d0_\"))"
   ]
  },
  {
   "cell_type": "code",
   "execution_count": 71,
   "metadata": {},
   "outputs": [
    {
     "data": {
      "text/html": [
       "<table class=\"dataframe\">\n",
       "<caption>A tibble: 6 × 24</caption>\n",
       "<thead>\n",
       "\t<tr><th scope=col>chrom</th><th scope=col>start</th><th scope=col>end</th><th scope=col>d0S_3a</th><th scope=col>d1_3a</th><th scope=col>d2_3a</th><th scope=col>d3_3a</th><th scope=col>d4_3a</th><th scope=col>d5_3a</th><th scope=col>d6_3a</th><th scope=col>⋯</th><th scope=col>d4_3b</th><th scope=col>d5_3b</th><th scope=col>d6_3b</th><th scope=col>d0S_wt</th><th scope=col>d1_wt</th><th scope=col>d2_wt</th><th scope=col>d3_wt</th><th scope=col>d4_wt</th><th scope=col>d5_wt</th><th scope=col>d6_wt</th></tr>\n",
       "\t<tr><th scope=col>&lt;chr&gt;</th><th scope=col>&lt;int&gt;</th><th scope=col>&lt;int&gt;</th><th scope=col>&lt;dbl&gt;</th><th scope=col>&lt;dbl&gt;</th><th scope=col>&lt;dbl&gt;</th><th scope=col>&lt;dbl&gt;</th><th scope=col>&lt;dbl&gt;</th><th scope=col>&lt;dbl&gt;</th><th scope=col>&lt;dbl&gt;</th><th scope=col>⋯</th><th scope=col>&lt;dbl&gt;</th><th scope=col>&lt;dbl&gt;</th><th scope=col>&lt;dbl&gt;</th><th scope=col>&lt;dbl&gt;</th><th scope=col>&lt;dbl&gt;</th><th scope=col>&lt;dbl&gt;</th><th scope=col>&lt;dbl&gt;</th><th scope=col>&lt;dbl&gt;</th><th scope=col>&lt;dbl&gt;</th><th scope=col>&lt;dbl&gt;</th></tr>\n",
       "</thead>\n",
       "<tbody>\n",
       "\t<tr><td>chr1</td><td>14497410</td><td>14498475</td><td>0.66346154</td><td>       NA</td><td>       NA</td><td>       NA</td><td>0.55855856</td><td>0.4925373</td><td>0.50000000</td><td>⋯</td><td>0.80373832</td><td>0.80000000</td><td>0.81250000</td><td>       NA</td><td>       NA</td><td>       NA</td><td>0.8571429</td><td>0.8000000</td><td>0.79569892</td><td>0.82173913</td></tr>\n",
       "\t<tr><td>chr1</td><td>21070410</td><td>21070719</td><td>0.31428571</td><td>       NA</td><td>       NA</td><td>       NA</td><td>0.29113924</td><td>0.3614458</td><td>0.43801653</td><td>⋯</td><td>0.61538462</td><td>0.64406780</td><td>0.67832168</td><td>       NA</td><td>       NA</td><td>       NA</td><td>       NA</td><td>0.9523810</td><td>0.59183673</td><td>0.84771574</td></tr>\n",
       "\t<tr><td>chr1</td><td>34163709</td><td>34164326</td><td>0.05769231</td><td>       NA</td><td>       NA</td><td>       NA</td><td>0.08333333</td><td>0.1320755</td><td>0.17283951</td><td>⋯</td><td>0.13513514</td><td>0.22580645</td><td>0.22602740</td><td>       NA</td><td>       NA</td><td>       NA</td><td>       NA</td><td>0.1600000</td><td>0.46913580</td><td>0.36200000</td></tr>\n",
       "\t<tr><td>chr1</td><td>38266943</td><td>38267649</td><td>0.29095853</td><td>0.1721992</td><td>0.1582915</td><td>0.2002882</td><td>0.25531915</td><td>0.5327103</td><td>0.67054908</td><td>⋯</td><td>0.25453654</td><td>0.29600000</td><td>0.33012628</td><td>0.3144775</td><td>0.1382979</td><td>0.1384615</td><td>0.2685560</td><td>0.3562982</td><td>0.81730769</td><td>0.74321230</td></tr>\n",
       "\t<tr><td>chr1</td><td>38685382</td><td>38686284</td><td>0.41111111</td><td>       NA</td><td>       NA</td><td>       NA</td><td>0.22222222</td><td>0.4615385</td><td>0.44520548</td><td>⋯</td><td>0.48913043</td><td>0.64444444</td><td>0.58235294</td><td>       NA</td><td>       NA</td><td>       NA</td><td>       NA</td><td>0.5666667</td><td>0.66666667</td><td>0.61437908</td></tr>\n",
       "\t<tr><td>chr1</td><td>57032568</td><td>57032760</td><td>0.06779661</td><td>       NA</td><td>       NA</td><td>0.0000000</td><td>0.00000000</td><td>0.0000000</td><td>0.04635762</td><td>⋯</td><td>0.04395604</td><td>0.01923077</td><td>0.05128205</td><td>       NA</td><td>       NA</td><td>       NA</td><td>       NA</td><td>0.2666667</td><td>0.03921569</td><td>0.05809129</td></tr>\n",
       "</tbody>\n",
       "</table>\n"
      ],
      "text/latex": [
       "A tibble: 6 × 24\n",
       "\\begin{tabular}{lllllllllllllllllllll}\n",
       " chrom & start & end & d0S\\_3a & d1\\_3a & d2\\_3a & d3\\_3a & d4\\_3a & d5\\_3a & d6\\_3a & ⋯ & d4\\_3b & d5\\_3b & d6\\_3b & d0S\\_wt & d1\\_wt & d2\\_wt & d3\\_wt & d4\\_wt & d5\\_wt & d6\\_wt\\\\\n",
       " <chr> & <int> & <int> & <dbl> & <dbl> & <dbl> & <dbl> & <dbl> & <dbl> & <dbl> & ⋯ & <dbl> & <dbl> & <dbl> & <dbl> & <dbl> & <dbl> & <dbl> & <dbl> & <dbl> & <dbl>\\\\\n",
       "\\hline\n",
       "\t chr1 & 14497410 & 14498475 & 0.66346154 &        NA &        NA &        NA & 0.55855856 & 0.4925373 & 0.50000000 & ⋯ & 0.80373832 & 0.80000000 & 0.81250000 &        NA &        NA &        NA & 0.8571429 & 0.8000000 & 0.79569892 & 0.82173913\\\\\n",
       "\t chr1 & 21070410 & 21070719 & 0.31428571 &        NA &        NA &        NA & 0.29113924 & 0.3614458 & 0.43801653 & ⋯ & 0.61538462 & 0.64406780 & 0.67832168 &        NA &        NA &        NA &        NA & 0.9523810 & 0.59183673 & 0.84771574\\\\\n",
       "\t chr1 & 34163709 & 34164326 & 0.05769231 &        NA &        NA &        NA & 0.08333333 & 0.1320755 & 0.17283951 & ⋯ & 0.13513514 & 0.22580645 & 0.22602740 &        NA &        NA &        NA &        NA & 0.1600000 & 0.46913580 & 0.36200000\\\\\n",
       "\t chr1 & 38266943 & 38267649 & 0.29095853 & 0.1721992 & 0.1582915 & 0.2002882 & 0.25531915 & 0.5327103 & 0.67054908 & ⋯ & 0.25453654 & 0.29600000 & 0.33012628 & 0.3144775 & 0.1382979 & 0.1384615 & 0.2685560 & 0.3562982 & 0.81730769 & 0.74321230\\\\\n",
       "\t chr1 & 38685382 & 38686284 & 0.41111111 &        NA &        NA &        NA & 0.22222222 & 0.4615385 & 0.44520548 & ⋯ & 0.48913043 & 0.64444444 & 0.58235294 &        NA &        NA &        NA &        NA & 0.5666667 & 0.66666667 & 0.61437908\\\\\n",
       "\t chr1 & 57032568 & 57032760 & 0.06779661 &        NA &        NA & 0.0000000 & 0.00000000 & 0.0000000 & 0.04635762 & ⋯ & 0.04395604 & 0.01923077 & 0.05128205 &        NA &        NA &        NA &        NA & 0.2666667 & 0.03921569 & 0.05809129\\\\\n",
       "\\end{tabular}\n"
      ],
      "text/markdown": [
       "\n",
       "A tibble: 6 × 24\n",
       "\n",
       "| chrom &lt;chr&gt; | start &lt;int&gt; | end &lt;int&gt; | d0S_3a &lt;dbl&gt; | d1_3a &lt;dbl&gt; | d2_3a &lt;dbl&gt; | d3_3a &lt;dbl&gt; | d4_3a &lt;dbl&gt; | d5_3a &lt;dbl&gt; | d6_3a &lt;dbl&gt; | ⋯ ⋯ | d4_3b &lt;dbl&gt; | d5_3b &lt;dbl&gt; | d6_3b &lt;dbl&gt; | d0S_wt &lt;dbl&gt; | d1_wt &lt;dbl&gt; | d2_wt &lt;dbl&gt; | d3_wt &lt;dbl&gt; | d4_wt &lt;dbl&gt; | d5_wt &lt;dbl&gt; | d6_wt &lt;dbl&gt; |\n",
       "|---|---|---|---|---|---|---|---|---|---|---|---|---|---|---|---|---|---|---|---|---|\n",
       "| chr1 | 14497410 | 14498475 | 0.66346154 |        NA |        NA |        NA | 0.55855856 | 0.4925373 | 0.50000000 | ⋯ | 0.80373832 | 0.80000000 | 0.81250000 |        NA |        NA |        NA | 0.8571429 | 0.8000000 | 0.79569892 | 0.82173913 |\n",
       "| chr1 | 21070410 | 21070719 | 0.31428571 |        NA |        NA |        NA | 0.29113924 | 0.3614458 | 0.43801653 | ⋯ | 0.61538462 | 0.64406780 | 0.67832168 |        NA |        NA |        NA |        NA | 0.9523810 | 0.59183673 | 0.84771574 |\n",
       "| chr1 | 34163709 | 34164326 | 0.05769231 |        NA |        NA |        NA | 0.08333333 | 0.1320755 | 0.17283951 | ⋯ | 0.13513514 | 0.22580645 | 0.22602740 |        NA |        NA |        NA |        NA | 0.1600000 | 0.46913580 | 0.36200000 |\n",
       "| chr1 | 38266943 | 38267649 | 0.29095853 | 0.1721992 | 0.1582915 | 0.2002882 | 0.25531915 | 0.5327103 | 0.67054908 | ⋯ | 0.25453654 | 0.29600000 | 0.33012628 | 0.3144775 | 0.1382979 | 0.1384615 | 0.2685560 | 0.3562982 | 0.81730769 | 0.74321230 |\n",
       "| chr1 | 38685382 | 38686284 | 0.41111111 |        NA |        NA |        NA | 0.22222222 | 0.4615385 | 0.44520548 | ⋯ | 0.48913043 | 0.64444444 | 0.58235294 |        NA |        NA |        NA |        NA | 0.5666667 | 0.66666667 | 0.61437908 |\n",
       "| chr1 | 57032568 | 57032760 | 0.06779661 |        NA |        NA | 0.0000000 | 0.00000000 | 0.0000000 | 0.04635762 | ⋯ | 0.04395604 | 0.01923077 | 0.05128205 |        NA |        NA |        NA |        NA | 0.2666667 | 0.03921569 | 0.05809129 |\n",
       "\n"
      ],
      "text/plain": [
       "  chrom start    end      d0S_3a     d1_3a     d2_3a     d3_3a     d4_3a     \n",
       "1 chr1  14497410 14498475 0.66346154        NA        NA        NA 0.55855856\n",
       "2 chr1  21070410 21070719 0.31428571        NA        NA        NA 0.29113924\n",
       "3 chr1  34163709 34164326 0.05769231        NA        NA        NA 0.08333333\n",
       "4 chr1  38266943 38267649 0.29095853 0.1721992 0.1582915 0.2002882 0.25531915\n",
       "5 chr1  38685382 38686284 0.41111111        NA        NA        NA 0.22222222\n",
       "6 chr1  57032568 57032760 0.06779661        NA        NA 0.0000000 0.00000000\n",
       "  d5_3a     d6_3a      ⋯ d4_3b      d5_3b      d6_3b      d0S_wt    d1_wt    \n",
       "1 0.4925373 0.50000000 ⋯ 0.80373832 0.80000000 0.81250000        NA        NA\n",
       "2 0.3614458 0.43801653 ⋯ 0.61538462 0.64406780 0.67832168        NA        NA\n",
       "3 0.1320755 0.17283951 ⋯ 0.13513514 0.22580645 0.22602740        NA        NA\n",
       "4 0.5327103 0.67054908 ⋯ 0.25453654 0.29600000 0.33012628 0.3144775 0.1382979\n",
       "5 0.4615385 0.44520548 ⋯ 0.48913043 0.64444444 0.58235294        NA        NA\n",
       "6 0.0000000 0.04635762 ⋯ 0.04395604 0.01923077 0.05128205        NA        NA\n",
       "  d2_wt     d3_wt     d4_wt     d5_wt      d6_wt     \n",
       "1        NA 0.8571429 0.8000000 0.79569892 0.82173913\n",
       "2        NA        NA 0.9523810 0.59183673 0.84771574\n",
       "3        NA        NA 0.1600000 0.46913580 0.36200000\n",
       "4 0.1384615 0.2685560 0.3562982 0.81730769 0.74321230\n",
       "5        NA        NA 0.5666667 0.66666667 0.61437908\n",
       "6        NA        NA 0.2666667 0.03921569 0.05809129"
      ]
     },
     "metadata": {},
     "output_type": "display_data"
    }
   ],
   "source": [
    "head(m_meeb)"
   ]
  },
  {
   "cell_type": "code",
   "execution_count": 72,
   "metadata": {},
   "outputs": [
    {
     "name": "stderr",
     "output_type": "stream",
     "text": [
      "Joining, by = c(\"chrom\", \"start\", \"end\")\n",
      "\n",
      "Joining, by = c(\"chrom\", \"start\", \"end\")\n",
      "\n"
     ]
    },
    {
     "data": {
      "text/html": [
       "<table class=\"dataframe\">\n",
       "<caption>A tibble: 6 × 30</caption>\n",
       "<thead>\n",
       "\t<tr><th scope=col>chrom</th><th scope=col>start</th><th scope=col>end</th><th scope=col>type</th><th scope=col>Yagi_3a</th><th scope=col>Yagi_3b</th><th scope=col>ko3a</th><th scope=col>ko3b</th><th scope=col>wt</th><th scope=col>d0S_3a</th><th scope=col>⋯</th><th scope=col>d4_3b</th><th scope=col>d5_3b</th><th scope=col>d6_3b</th><th scope=col>d0S_wt</th><th scope=col>d1_wt</th><th scope=col>d2_wt</th><th scope=col>d3_wt</th><th scope=col>d4_wt</th><th scope=col>d5_wt</th><th scope=col>d6_wt</th></tr>\n",
       "\t<tr><th scope=col>&lt;chr&gt;</th><th scope=col>&lt;int&gt;</th><th scope=col>&lt;int&gt;</th><th scope=col>&lt;chr&gt;</th><th scope=col>&lt;dbl&gt;</th><th scope=col>&lt;dbl&gt;</th><th scope=col>&lt;dbl&gt;</th><th scope=col>&lt;dbl&gt;</th><th scope=col>&lt;dbl&gt;</th><th scope=col>&lt;dbl&gt;</th><th scope=col>⋯</th><th scope=col>&lt;dbl&gt;</th><th scope=col>&lt;dbl&gt;</th><th scope=col>&lt;dbl&gt;</th><th scope=col>&lt;dbl&gt;</th><th scope=col>&lt;dbl&gt;</th><th scope=col>&lt;dbl&gt;</th><th scope=col>&lt;dbl&gt;</th><th scope=col>&lt;dbl&gt;</th><th scope=col>&lt;dbl&gt;</th><th scope=col>&lt;dbl&gt;</th></tr>\n",
       "</thead>\n",
       "<tbody>\n",
       "\t<tr><td>chr6 </td><td> 48387929</td><td> 48389217</td><td>proA</td><td>0.05732420</td><td>0.6731291</td><td>0.03305727</td><td>0.01935100</td><td>0.03128703</td><td>0.05240642</td><td>⋯</td><td>0.03423237</td><td>0.05020921</td><td>0.03491379</td><td>0.0733945</td><td>0.00000000</td><td>0.01075269</td><td>0.04411765</td><td>0.05958132</td><td>0.0718232</td><td>0.08210877</td></tr>\n",
       "\t<tr><td>chr3 </td><td> 55584536</td><td> 55588340</td><td>proA</td><td>0.02412445</td><td>0.4470477</td><td>0.03345408</td><td>0.02190160</td><td>0.05538695</td><td>0.22588832</td><td>⋯</td><td>0.21798030</td><td>0.21082621</td><td>0.25292056</td><td>0.1935484</td><td>0.11363636</td><td>0.18918919</td><td>0.22857143</td><td>0.27392739</td><td>0.3146667</td><td>0.33866951</td></tr>\n",
       "\t<tr><td>chr1 </td><td>186549516</td><td>186554917</td><td>proA</td><td>0.02829836</td><td>0.5260327</td><td>0.03760639</td><td>0.02147777</td><td>0.07845847</td><td>0.46839605</td><td>⋯</td><td>0.54364798</td><td>0.23013245</td><td>0.35954601</td><td>0.6337895</td><td>0.39802336</td><td>0.44246032</td><td>0.56379101</td><td>0.67888716</td><td>0.4138462</td><td>0.38639532</td></tr>\n",
       "\t<tr><td>chr4 </td><td>135845931</td><td>135846972</td><td>proA</td><td>0.10997219</td><td>0.6153078</td><td>0.11737341</td><td>0.04451465</td><td>0.21266968</td><td>0.12714157</td><td>⋯</td><td>0.10903427</td><td>0.08480000</td><td>0.08768536</td><td>0.1174785</td><td>0.05925926</td><td>0.05384615</td><td>0.12921348</td><td>0.19919786</td><td>0.1800766</td><td>0.32883390</td></tr>\n",
       "\t<tr><td>chr11</td><td>118941147</td><td>118943355</td><td>proA</td><td>0.04548308</td><td>0.6741248</td><td>0.07684360</td><td>0.03943182</td><td>0.14754879</td><td>0.18901660</td><td>⋯</td><td>0.18750000</td><td>0.17412141</td><td>0.18470021</td><td>0.1296296</td><td>0.06000000</td><td>0.07317073</td><td>0.15789474</td><td>0.28443114</td><td>0.2222222</td><td>0.24428214</td></tr>\n",
       "\t<tr><td>chr7 </td><td> 77491664</td><td> 77494580</td><td>proA</td><td>0.02552988</td><td>0.6597258</td><td>0.00000000</td><td>0.04000000</td><td>        NA</td><td>0.36474164</td><td>⋯</td><td>0.72745098</td><td>0.64102564</td><td>0.62837163</td><td>0.7187500</td><td>0.48275862</td><td>0.66666667</td><td>0.56410256</td><td>0.82432432</td><td>0.7349823</td><td>0.66535433</td></tr>\n",
       "</tbody>\n",
       "</table>\n"
      ],
      "text/latex": [
       "A tibble: 6 × 30\n",
       "\\begin{tabular}{lllllllllllllllllllll}\n",
       " chrom & start & end & type & Yagi\\_3a & Yagi\\_3b & ko3a & ko3b & wt & d0S\\_3a & ⋯ & d4\\_3b & d5\\_3b & d6\\_3b & d0S\\_wt & d1\\_wt & d2\\_wt & d3\\_wt & d4\\_wt & d5\\_wt & d6\\_wt\\\\\n",
       " <chr> & <int> & <int> & <chr> & <dbl> & <dbl> & <dbl> & <dbl> & <dbl> & <dbl> & ⋯ & <dbl> & <dbl> & <dbl> & <dbl> & <dbl> & <dbl> & <dbl> & <dbl> & <dbl> & <dbl>\\\\\n",
       "\\hline\n",
       "\t chr6  &  48387929 &  48389217 & proA & 0.05732420 & 0.6731291 & 0.03305727 & 0.01935100 & 0.03128703 & 0.05240642 & ⋯ & 0.03423237 & 0.05020921 & 0.03491379 & 0.0733945 & 0.00000000 & 0.01075269 & 0.04411765 & 0.05958132 & 0.0718232 & 0.08210877\\\\\n",
       "\t chr3  &  55584536 &  55588340 & proA & 0.02412445 & 0.4470477 & 0.03345408 & 0.02190160 & 0.05538695 & 0.22588832 & ⋯ & 0.21798030 & 0.21082621 & 0.25292056 & 0.1935484 & 0.11363636 & 0.18918919 & 0.22857143 & 0.27392739 & 0.3146667 & 0.33866951\\\\\n",
       "\t chr1  & 186549516 & 186554917 & proA & 0.02829836 & 0.5260327 & 0.03760639 & 0.02147777 & 0.07845847 & 0.46839605 & ⋯ & 0.54364798 & 0.23013245 & 0.35954601 & 0.6337895 & 0.39802336 & 0.44246032 & 0.56379101 & 0.67888716 & 0.4138462 & 0.38639532\\\\\n",
       "\t chr4  & 135845931 & 135846972 & proA & 0.10997219 & 0.6153078 & 0.11737341 & 0.04451465 & 0.21266968 & 0.12714157 & ⋯ & 0.10903427 & 0.08480000 & 0.08768536 & 0.1174785 & 0.05925926 & 0.05384615 & 0.12921348 & 0.19919786 & 0.1800766 & 0.32883390\\\\\n",
       "\t chr11 & 118941147 & 118943355 & proA & 0.04548308 & 0.6741248 & 0.07684360 & 0.03943182 & 0.14754879 & 0.18901660 & ⋯ & 0.18750000 & 0.17412141 & 0.18470021 & 0.1296296 & 0.06000000 & 0.07317073 & 0.15789474 & 0.28443114 & 0.2222222 & 0.24428214\\\\\n",
       "\t chr7  &  77491664 &  77494580 & proA & 0.02552988 & 0.6597258 & 0.00000000 & 0.04000000 &         NA & 0.36474164 & ⋯ & 0.72745098 & 0.64102564 & 0.62837163 & 0.7187500 & 0.48275862 & 0.66666667 & 0.56410256 & 0.82432432 & 0.7349823 & 0.66535433\\\\\n",
       "\\end{tabular}\n"
      ],
      "text/markdown": [
       "\n",
       "A tibble: 6 × 30\n",
       "\n",
       "| chrom &lt;chr&gt; | start &lt;int&gt; | end &lt;int&gt; | type &lt;chr&gt; | Yagi_3a &lt;dbl&gt; | Yagi_3b &lt;dbl&gt; | ko3a &lt;dbl&gt; | ko3b &lt;dbl&gt; | wt &lt;dbl&gt; | d0S_3a &lt;dbl&gt; | ⋯ ⋯ | d4_3b &lt;dbl&gt; | d5_3b &lt;dbl&gt; | d6_3b &lt;dbl&gt; | d0S_wt &lt;dbl&gt; | d1_wt &lt;dbl&gt; | d2_wt &lt;dbl&gt; | d3_wt &lt;dbl&gt; | d4_wt &lt;dbl&gt; | d5_wt &lt;dbl&gt; | d6_wt &lt;dbl&gt; |\n",
       "|---|---|---|---|---|---|---|---|---|---|---|---|---|---|---|---|---|---|---|---|---|\n",
       "| chr6  |  48387929 |  48389217 | proA | 0.05732420 | 0.6731291 | 0.03305727 | 0.01935100 | 0.03128703 | 0.05240642 | ⋯ | 0.03423237 | 0.05020921 | 0.03491379 | 0.0733945 | 0.00000000 | 0.01075269 | 0.04411765 | 0.05958132 | 0.0718232 | 0.08210877 |\n",
       "| chr3  |  55584536 |  55588340 | proA | 0.02412445 | 0.4470477 | 0.03345408 | 0.02190160 | 0.05538695 | 0.22588832 | ⋯ | 0.21798030 | 0.21082621 | 0.25292056 | 0.1935484 | 0.11363636 | 0.18918919 | 0.22857143 | 0.27392739 | 0.3146667 | 0.33866951 |\n",
       "| chr1  | 186549516 | 186554917 | proA | 0.02829836 | 0.5260327 | 0.03760639 | 0.02147777 | 0.07845847 | 0.46839605 | ⋯ | 0.54364798 | 0.23013245 | 0.35954601 | 0.6337895 | 0.39802336 | 0.44246032 | 0.56379101 | 0.67888716 | 0.4138462 | 0.38639532 |\n",
       "| chr4  | 135845931 | 135846972 | proA | 0.10997219 | 0.6153078 | 0.11737341 | 0.04451465 | 0.21266968 | 0.12714157 | ⋯ | 0.10903427 | 0.08480000 | 0.08768536 | 0.1174785 | 0.05925926 | 0.05384615 | 0.12921348 | 0.19919786 | 0.1800766 | 0.32883390 |\n",
       "| chr11 | 118941147 | 118943355 | proA | 0.04548308 | 0.6741248 | 0.07684360 | 0.03943182 | 0.14754879 | 0.18901660 | ⋯ | 0.18750000 | 0.17412141 | 0.18470021 | 0.1296296 | 0.06000000 | 0.07317073 | 0.15789474 | 0.28443114 | 0.2222222 | 0.24428214 |\n",
       "| chr7  |  77491664 |  77494580 | proA | 0.02552988 | 0.6597258 | 0.00000000 | 0.04000000 |         NA | 0.36474164 | ⋯ | 0.72745098 | 0.64102564 | 0.62837163 | 0.7187500 | 0.48275862 | 0.66666667 | 0.56410256 | 0.82432432 | 0.7349823 | 0.66535433 |\n",
       "\n"
      ],
      "text/plain": [
       "  chrom start     end       type Yagi_3a    Yagi_3b   ko3a       ko3b      \n",
       "1 chr6   48387929  48389217 proA 0.05732420 0.6731291 0.03305727 0.01935100\n",
       "2 chr3   55584536  55588340 proA 0.02412445 0.4470477 0.03345408 0.02190160\n",
       "3 chr1  186549516 186554917 proA 0.02829836 0.5260327 0.03760639 0.02147777\n",
       "4 chr4  135845931 135846972 proA 0.10997219 0.6153078 0.11737341 0.04451465\n",
       "5 chr11 118941147 118943355 proA 0.04548308 0.6741248 0.07684360 0.03943182\n",
       "6 chr7   77491664  77494580 proA 0.02552988 0.6597258 0.00000000 0.04000000\n",
       "  wt         d0S_3a     ⋯ d4_3b      d5_3b      d6_3b      d0S_wt    d1_wt     \n",
       "1 0.03128703 0.05240642 ⋯ 0.03423237 0.05020921 0.03491379 0.0733945 0.00000000\n",
       "2 0.05538695 0.22588832 ⋯ 0.21798030 0.21082621 0.25292056 0.1935484 0.11363636\n",
       "3 0.07845847 0.46839605 ⋯ 0.54364798 0.23013245 0.35954601 0.6337895 0.39802336\n",
       "4 0.21266968 0.12714157 ⋯ 0.10903427 0.08480000 0.08768536 0.1174785 0.05925926\n",
       "5 0.14754879 0.18901660 ⋯ 0.18750000 0.17412141 0.18470021 0.1296296 0.06000000\n",
       "6         NA 0.36474164 ⋯ 0.72745098 0.64102564 0.62837163 0.7187500 0.48275862\n",
       "  d2_wt      d3_wt      d4_wt      d5_wt     d6_wt     \n",
       "1 0.01075269 0.04411765 0.05958132 0.0718232 0.08210877\n",
       "2 0.18918919 0.22857143 0.27392739 0.3146667 0.33866951\n",
       "3 0.44246032 0.56379101 0.67888716 0.4138462 0.38639532\n",
       "4 0.05384615 0.12921348 0.19919786 0.1800766 0.32883390\n",
       "5 0.07317073 0.15789474 0.28443114 0.2222222 0.24428214\n",
       "6 0.66666667 0.56410256 0.82432432 0.7349823 0.66535433"
      ]
     },
     "metadata": {},
     "output_type": "display_data"
    }
   ],
   "source": [
    "yagi_meth <- yagi_dmrs %>% \n",
    "    left_join(m_epi6) %>% \n",
    "    left_join(m_meeb)\n",
    "head(yagi_meth)"
   ]
  },
  {
   "cell_type": "code",
   "execution_count": 73,
   "metadata": {},
   "outputs": [
    {
     "name": "stderr",
     "output_type": "stream",
     "text": [
      "Warning message:\n",
      "“Removed 4701 rows containing non-finite values (stat_boxplot).”\n"
     ]
    },
    {
     "data": {
      "image/png": "[encoded data removed]",
      "text/plain": [
       "plot without title"
      ]
     },
     "metadata": {
      "image/png": {
       "height": 420,
       "width": 840
      }
     },
     "output_type": "display_data"
    }
   ],
   "source": [
    "options(repr.plot.width = 14, repr.plot.height = 7)\n",
    "line_colors <- c(\"wt\" = \"darkblue\", \"3a\" = \"purple\", \"3b\" = \"orange\")\n",
    "p_yagi <- yagi_meth %>%     \n",
    "    select(chrom:end, type, Yagi_3a, Yagi_3b, epi_ko3a = ko3a, epi_ko3b = ko3b, epi_wt = wt, everything()) %>% \n",
    "    gather(\"samp\", \"meth\", -(chrom:type)) %>%     \n",
    "    mutate(samp = gsub(\"_all\", \"\", samp)) %>% \n",
    "    mutate(line = case_when(\n",
    "        grepl(\"3a\", samp) ~ \"3a\",\n",
    "        grepl(\"3b\", samp) ~ \"3b\",\n",
    "        grepl(\"wt\", samp) ~ \"wt\"\n",
    "    )) %>% \n",
    "    mutate(line = factor(line, levels = names(line_colors))) %>%\n",
    "    ggplot(aes(x=samp, y=meth, fill=line)) + \n",
    "        geom_boxplot(outlier.size = 0, lwd = 0.1) + \n",
    "        xlab(\"\") + \n",
    "        ylab(\"Methylation\") + \n",
    "        scale_fill_manual(\"\", values=line_colors) + \n",
    "        vertical_labs() + \n",
    "        theme(axis.text.x=element_text(size=4)) + \n",
    "        facet_wrap(~type)\n",
    "\n",
    "p_yagi\n",
    "\n",
    "    "
   ]
  },
  {
   "cell_type": "code",
   "execution_count": 74,
   "metadata": {},
   "outputs": [
    {
     "name": "stderr",
     "output_type": "stream",
     "text": [
      "Warning message:\n",
      "“Removed 4701 rows containing non-finite values (stat_boxplot).”\n",
      "Warning message:\n",
      "“Removed 4701 rows containing non-finite values (stat_boxplot).”\n"
     ]
    }
   ],
   "source": [
    "tgppt::plot_gg_ppt(p_yagi, here(\"figures/Yagi.pptx\"), width = 12, height=4, rasterize_plot = TRUE, sep_legend = TRUE, overwrite = TRUE)"
   ]
  },
  {
   "cell_type": "code",
   "execution_count": null,
   "metadata": {},
   "outputs": [],
   "source": []
  }
 ],
 "metadata": {
  "kernelspec": {
   "display_name": "R",
   "language": "R",
   "name": "ir"
  },
  "language_info": {
   "codemirror_mode": "r",
   "file_extension": ".r",
   "mimetype": "text/x-r-source",
   "name": "R",
   "pygments_lexer": "r",
   "version": "4.0.3"
  }
 },
 "nbformat": 4,
 "nbformat_minor": 4
}
